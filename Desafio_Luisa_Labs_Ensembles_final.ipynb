{
 "cells": [
  {
   "cell_type": "markdown",
   "id": "1418a715-d7b6-4ba9-8f21-6829bf66e4ec",
   "metadata": {},
   "source": [
    "# Churn de clientes"
   ]
  },
  {
   "cell_type": "markdown",
   "id": "723ff074-81ae-4cae-8e84-b9df9892b71f",
   "metadata": {
    "tags": []
   },
   "source": [
    "### O desafio de prever se um cliente irá sair da Base de Clientes Ativos (também conhecido como churn) não é um problema exclusivo do varejo, sendo uma área de estudos constante da maioria das indústrias e empresas de serviços que dependem da retenção.\n",
    "\n",
    "### Esse é um exemplo do tipo de problema que um cientista do Chapter de Ciência de Dados do Luizalabs entra de cabeça e cujas soluções servem para alavancar várias frentes de trabalho. A solução em si já traz muito valor, se tiver alto índice de acertos pode ser usada para elencar automaticamente clientes com alto risco de churn para uma promoção agressiva com o objetivo retê-lo na base.\n",
    "\n",
    "### Também há muito valor nos insights e na validação de hipóteses que acontece durante o processo de análise do problema e das soluções. Pode-se verificar através de experimentação que, por exemplo, um cliente que compra exclusivamente em datas especiais ou eventos promocionais tem uma chance menor de ser um churn do que um que compra grandes volumes do mesmo produto."
   ]
  },
  {
   "cell_type": "markdown",
   "id": "07458bdc-89f0-4ed4-b629-750993e74a5f",
   "metadata": {},
   "source": [
    "# Objetivos"
   ]
  },
  {
   "cell_type": "markdown",
   "id": "8d45ffcf-fa65-4561-a555-7f980e6eec61",
   "metadata": {},
   "source": [
    "### Nesse desafio, construído em uma parceria da Tera e o Luizalabs, o objetivo principal será construir algumas soluções baseadas em machine learning para prever se um dado cliente do e-commerce do Magalu continuará comprando na plataforma em 2020 usando algumas características próprias do cliente e seu histórico de compras no ano anterior. No final, algumas dessas soluções devem ser combinadas em um ensemble para criar uma solução única com o objetivo de alavancar ainda mais os resultados.\n",
    "\n",
    "### Para que o objetivo principal seja cumprido, será necessário construir uma forma de visualização das soluções criadas e a comparação com o modelo baseline e com o modelo de ensemble criados no processo. O formato sugerido é um tabela de resultados contendo as métricas de sucesso de cada modelo criado.\n",
    "\n",
    "### O objetivo secundário é o levantamento de hipóteses e insights que surgirem durante as experimentações. É interessante fazer isso desde o início como parte da análise exploratória, documentando qualquer indício de informação nova sobre o problema. Também é uma boa prática avaliar os modelos treinados, seja através da exploração de seus parâmetros (por exemplo, os pesos de um modelo linear) ou usando técnicas avançadas como o SHAP."
   ]
  },
  {
   "cell_type": "markdown",
   "id": "31662993-b0d2-4265-ba3c-828acbd6ef0c",
   "metadata": {
    "tags": []
   },
   "source": [
    "# Importando bibliotecas"
   ]
  },
  {
   "cell_type": "code",
   "execution_count": 1,
   "id": "9d99789f-748a-4028-9a6b-f77a28301a78",
   "metadata": {},
   "outputs": [
    {
     "name": "stdout",
     "output_type": "stream",
     "text": [
      "Requirement already satisfied: scikit-learn in c:\\users\\55419\\anaconda3\\lib\\site-packages (1.1.2)\n",
      "Requirement already satisfied: numpy>=1.17.3 in c:\\users\\55419\\anaconda3\\lib\\site-packages (from scikit-learn) (1.21.5)\n",
      "Requirement already satisfied: scipy>=1.3.2 in c:\\users\\55419\\anaconda3\\lib\\site-packages (from scikit-learn) (1.7.3)\n",
      "Requirement already satisfied: threadpoolctl>=2.0.0 in c:\\users\\55419\\anaconda3\\lib\\site-packages (from scikit-learn) (2.2.0)\n",
      "Requirement already satisfied: joblib>=1.0.0 in c:\\users\\55419\\anaconda3\\lib\\site-packages (from scikit-learn) (1.1.0)\n"
     ]
    }
   ],
   "source": [
    "!pip install -U scikit-learn\n",
    "\n",
    "import warnings\n",
    "warnings.filterwarnings('ignore')\n",
    "import pandas as pd\n",
    "import numpy as np\n",
    "import matplotlib.pyplot as plt\n",
    "import seaborn as sns"
   ]
  },
  {
   "cell_type": "markdown",
   "id": "8e3764c3-9c8a-4b9b-b6b0-ef54adc2d53c",
   "metadata": {
    "jp-MarkdownHeadingCollapsed": true,
    "tags": []
   },
   "source": [
    "# Importando os bancos de dados"
   ]
  },
  {
   "cell_type": "code",
   "execution_count": 2,
   "id": "524dd24c-3c5e-491d-97a5-17998a7a338e",
   "metadata": {},
   "outputs": [
    {
     "data": {
      "text/html": [
       "<div>\n",
       "<style scoped>\n",
       "    .dataframe tbody tr th:only-of-type {\n",
       "        vertical-align: middle;\n",
       "    }\n",
       "\n",
       "    .dataframe tbody tr th {\n",
       "        vertical-align: top;\n",
       "    }\n",
       "\n",
       "    .dataframe thead th {\n",
       "        text-align: right;\n",
       "    }\n",
       "</style>\n",
       "<table border=\"1\" class=\"dataframe\">\n",
       "  <thead>\n",
       "    <tr style=\"text-align: right;\">\n",
       "      <th></th>\n",
       "      <th>client_id</th>\n",
       "      <th>birthdate</th>\n",
       "      <th>state</th>\n",
       "      <th>gender</th>\n",
       "      <th>is_churn</th>\n",
       "    </tr>\n",
       "  </thead>\n",
       "  <tbody>\n",
       "    <tr>\n",
       "      <th>0</th>\n",
       "      <td>cx06840</td>\n",
       "      <td>1982-12-03</td>\n",
       "      <td>st15</td>\n",
       "      <td>cg1</td>\n",
       "      <td>False</td>\n",
       "    </tr>\n",
       "    <tr>\n",
       "      <th>1</th>\n",
       "      <td>cx01931</td>\n",
       "      <td>1979-05-09</td>\n",
       "      <td>st15</td>\n",
       "      <td>cg1</td>\n",
       "      <td>False</td>\n",
       "    </tr>\n",
       "    <tr>\n",
       "      <th>2</th>\n",
       "      <td>cx35431</td>\n",
       "      <td>1965-05-09</td>\n",
       "      <td>st15</td>\n",
       "      <td>cg1</td>\n",
       "      <td>False</td>\n",
       "    </tr>\n",
       "    <tr>\n",
       "      <th>3</th>\n",
       "      <td>cx36233</td>\n",
       "      <td>1954-03-15</td>\n",
       "      <td>st15</td>\n",
       "      <td>cg2</td>\n",
       "      <td>False</td>\n",
       "    </tr>\n",
       "    <tr>\n",
       "      <th>4</th>\n",
       "      <td>cx13540</td>\n",
       "      <td>1965-06-19</td>\n",
       "      <td>st15</td>\n",
       "      <td>cg1</td>\n",
       "      <td>False</td>\n",
       "    </tr>\n",
       "  </tbody>\n",
       "</table>\n",
       "</div>"
      ],
      "text/plain": [
       "  client_id   birthdate state gender  is_churn\n",
       "0   cx06840  1982-12-03  st15    cg1     False\n",
       "1   cx01931  1979-05-09  st15    cg1     False\n",
       "2   cx35431  1965-05-09  st15    cg1     False\n",
       "3   cx36233  1954-03-15  st15    cg2     False\n",
       "4   cx13540  1965-06-19  st15    cg1     False"
      ]
     },
     "execution_count": 2,
     "metadata": {},
     "output_type": "execute_result"
    }
   ],
   "source": [
    "# Data set de treino\n",
    "\n",
    "df_treino = pd.read_csv('C:/Users/55419/Desktop/tera/Conteudo curso DC/Desafio Luisa Labs/client.train.csv')\n",
    "df_treino.head()"
   ]
  },
  {
   "cell_type": "code",
   "execution_count": 3,
   "id": "105f48f6-0091-4452-919c-10b844aff0cd",
   "metadata": {},
   "outputs": [
    {
     "data": {
      "text/html": [
       "<div>\n",
       "<style scoped>\n",
       "    .dataframe tbody tr th:only-of-type {\n",
       "        vertical-align: middle;\n",
       "    }\n",
       "\n",
       "    .dataframe tbody tr th {\n",
       "        vertical-align: top;\n",
       "    }\n",
       "\n",
       "    .dataframe thead th {\n",
       "        text-align: right;\n",
       "    }\n",
       "</style>\n",
       "<table border=\"1\" class=\"dataframe\">\n",
       "  <thead>\n",
       "    <tr style=\"text-align: right;\">\n",
       "      <th></th>\n",
       "      <th>client_id</th>\n",
       "      <th>birthdate</th>\n",
       "      <th>state</th>\n",
       "      <th>gender</th>\n",
       "      <th>is_churn</th>\n",
       "    </tr>\n",
       "  </thead>\n",
       "  <tbody>\n",
       "    <tr>\n",
       "      <th>0</th>\n",
       "      <td>cx06840</td>\n",
       "      <td>1982-12-03</td>\n",
       "      <td>st15</td>\n",
       "      <td>cg1</td>\n",
       "      <td>False</td>\n",
       "    </tr>\n",
       "    <tr>\n",
       "      <th>1</th>\n",
       "      <td>cx01931</td>\n",
       "      <td>1979-05-09</td>\n",
       "      <td>st15</td>\n",
       "      <td>cg1</td>\n",
       "      <td>False</td>\n",
       "    </tr>\n",
       "    <tr>\n",
       "      <th>2</th>\n",
       "      <td>cx35431</td>\n",
       "      <td>1965-05-09</td>\n",
       "      <td>st15</td>\n",
       "      <td>cg1</td>\n",
       "      <td>False</td>\n",
       "    </tr>\n",
       "    <tr>\n",
       "      <th>3</th>\n",
       "      <td>cx36233</td>\n",
       "      <td>1954-03-15</td>\n",
       "      <td>st15</td>\n",
       "      <td>cg2</td>\n",
       "      <td>False</td>\n",
       "    </tr>\n",
       "    <tr>\n",
       "      <th>4</th>\n",
       "      <td>cx13540</td>\n",
       "      <td>1965-06-19</td>\n",
       "      <td>st15</td>\n",
       "      <td>cg1</td>\n",
       "      <td>False</td>\n",
       "    </tr>\n",
       "  </tbody>\n",
       "</table>\n",
       "</div>"
      ],
      "text/plain": [
       "  client_id   birthdate state gender  is_churn\n",
       "0   cx06840  1982-12-03  st15    cg1     False\n",
       "1   cx01931  1979-05-09  st15    cg1     False\n",
       "2   cx35431  1965-05-09  st15    cg1     False\n",
       "3   cx36233  1954-03-15  st15    cg2     False\n",
       "4   cx13540  1965-06-19  st15    cg1     False"
      ]
     },
     "execution_count": 3,
     "metadata": {},
     "output_type": "execute_result"
    }
   ],
   "source": [
    "# Data set de teste\n",
    "\n",
    "df_teste = pd.read_csv('C:/Users/55419/Desktop/tera/Conteudo curso DC/Desafio Luisa Labs/client.test.csv')\n",
    "df_teste.head()"
   ]
  },
  {
   "cell_type": "code",
   "execution_count": 4,
   "id": "3799f28a-3239-45af-aadc-cd1d6d54b770",
   "metadata": {},
   "outputs": [
    {
     "data": {
      "text/html": [
       "<div>\n",
       "<style scoped>\n",
       "    .dataframe tbody tr th:only-of-type {\n",
       "        vertical-align: middle;\n",
       "    }\n",
       "\n",
       "    .dataframe tbody tr th {\n",
       "        vertical-align: top;\n",
       "    }\n",
       "\n",
       "    .dataframe thead th {\n",
       "        text-align: right;\n",
       "    }\n",
       "</style>\n",
       "<table border=\"1\" class=\"dataframe\">\n",
       "  <thead>\n",
       "    <tr style=\"text-align: right;\">\n",
       "      <th></th>\n",
       "      <th>client_id</th>\n",
       "      <th>birthdate</th>\n",
       "      <th>state</th>\n",
       "      <th>gender</th>\n",
       "    </tr>\n",
       "  </thead>\n",
       "  <tbody>\n",
       "    <tr>\n",
       "      <th>0</th>\n",
       "      <td>cx12525</td>\n",
       "      <td>1932-04-19</td>\n",
       "      <td>st15</td>\n",
       "      <td>cg1</td>\n",
       "    </tr>\n",
       "    <tr>\n",
       "      <th>1</th>\n",
       "      <td>cx32280</td>\n",
       "      <td>1983-03-01</td>\n",
       "      <td>st15</td>\n",
       "      <td>cg1</td>\n",
       "    </tr>\n",
       "    <tr>\n",
       "      <th>2</th>\n",
       "      <td>cx00471</td>\n",
       "      <td>1964-08-30</td>\n",
       "      <td>st15</td>\n",
       "      <td>cg2</td>\n",
       "    </tr>\n",
       "    <tr>\n",
       "      <th>3</th>\n",
       "      <td>cx18876</td>\n",
       "      <td>1971-04-27</td>\n",
       "      <td>st15</td>\n",
       "      <td>cg2</td>\n",
       "    </tr>\n",
       "    <tr>\n",
       "      <th>4</th>\n",
       "      <td>cx38255</td>\n",
       "      <td>1958-01-26</td>\n",
       "      <td>st15</td>\n",
       "      <td>cg1</td>\n",
       "    </tr>\n",
       "  </tbody>\n",
       "</table>\n",
       "</div>"
      ],
      "text/plain": [
       "  client_id   birthdate state gender\n",
       "0   cx12525  1932-04-19  st15    cg1\n",
       "1   cx32280  1983-03-01  st15    cg1\n",
       "2   cx00471  1964-08-30  st15    cg2\n",
       "3   cx18876  1971-04-27  st15    cg2\n",
       "4   cx38255  1958-01-26  st15    cg1"
      ]
     },
     "execution_count": 4,
     "metadata": {},
     "output_type": "execute_result"
    }
   ],
   "source": [
    "# Data set desafio\n",
    "\n",
    "df_desafio = pd.read_csv('C:/Users/55419/Desktop/tera/Conteudo curso DC/Desafio Luisa Labs/client.challenge.data.csv')\n",
    "df_desafio.head()"
   ]
  },
  {
   "cell_type": "code",
   "execution_count": 5,
   "id": "f38a3211-78f0-4bd5-a63b-63eff9d3874b",
   "metadata": {},
   "outputs": [
    {
     "data": {
      "text/html": [
       "<div>\n",
       "<style scoped>\n",
       "    .dataframe tbody tr th:only-of-type {\n",
       "        vertical-align: middle;\n",
       "    }\n",
       "\n",
       "    .dataframe tbody tr th {\n",
       "        vertical-align: top;\n",
       "    }\n",
       "\n",
       "    .dataframe thead th {\n",
       "        text-align: right;\n",
       "    }\n",
       "</style>\n",
       "<table border=\"1\" class=\"dataframe\">\n",
       "  <thead>\n",
       "    <tr style=\"text-align: right;\">\n",
       "      <th></th>\n",
       "      <th>product_id</th>\n",
       "      <th>category_lv0</th>\n",
       "      <th>category_lv1</th>\n",
       "      <th>category_lv2</th>\n",
       "      <th>category_lv3</th>\n",
       "      <th>category_lv4</th>\n",
       "    </tr>\n",
       "  </thead>\n",
       "  <tbody>\n",
       "    <tr>\n",
       "      <th>0</th>\n",
       "      <td>px01237</td>\n",
       "      <td>mk38</td>\n",
       "      <td>mk38:072</td>\n",
       "      <td>mk38:072:149</td>\n",
       "      <td>mk38:072:149:218</td>\n",
       "      <td>mk38:072:149:218:04846</td>\n",
       "    </tr>\n",
       "    <tr>\n",
       "      <th>1</th>\n",
       "      <td>px11510</td>\n",
       "      <td>mk38</td>\n",
       "      <td>mk38:072</td>\n",
       "      <td>mk38:072:149</td>\n",
       "      <td>mk38:072:149:218</td>\n",
       "      <td>mk38:072:149:218:01337</td>\n",
       "    </tr>\n",
       "    <tr>\n",
       "      <th>2</th>\n",
       "      <td>px03782</td>\n",
       "      <td>mk38</td>\n",
       "      <td>mk38:072</td>\n",
       "      <td>mk38:072:019</td>\n",
       "      <td>mk38:072:019:066</td>\n",
       "      <td>mk38:072:019:066:02321</td>\n",
       "    </tr>\n",
       "    <tr>\n",
       "      <th>3</th>\n",
       "      <td>px04092</td>\n",
       "      <td>mk38</td>\n",
       "      <td>mk38:072</td>\n",
       "      <td>mk38:072:019</td>\n",
       "      <td>mk38:072:019:054</td>\n",
       "      <td>mk38:072:019:054:06035</td>\n",
       "    </tr>\n",
       "    <tr>\n",
       "      <th>4</th>\n",
       "      <td>px07429</td>\n",
       "      <td>mk38</td>\n",
       "      <td>mk38:072</td>\n",
       "      <td>mk38:072:078</td>\n",
       "      <td>mk38:072:078:182</td>\n",
       "      <td>mk38:072:078:182:07218</td>\n",
       "    </tr>\n",
       "  </tbody>\n",
       "</table>\n",
       "</div>"
      ],
      "text/plain": [
       "  product_id category_lv0 category_lv1  category_lv2      category_lv3  \\\n",
       "0    px01237         mk38     mk38:072  mk38:072:149  mk38:072:149:218   \n",
       "1    px11510         mk38     mk38:072  mk38:072:149  mk38:072:149:218   \n",
       "2    px03782         mk38     mk38:072  mk38:072:019  mk38:072:019:066   \n",
       "3    px04092         mk38     mk38:072  mk38:072:019  mk38:072:019:054   \n",
       "4    px07429         mk38     mk38:072  mk38:072:078  mk38:072:078:182   \n",
       "\n",
       "             category_lv4  \n",
       "0  mk38:072:149:218:04846  \n",
       "1  mk38:072:149:218:01337  \n",
       "2  mk38:072:019:066:02321  \n",
       "3  mk38:072:019:054:06035  \n",
       "4  mk38:072:078:182:07218  "
      ]
     },
     "execution_count": 5,
     "metadata": {},
     "output_type": "execute_result"
    }
   ],
   "source": [
    "# Data set de produtos\n",
    "\n",
    "produtos = pd.read_csv('C:/Users/55419/Desktop/tera/Conteudo curso DC/Desafio Luisa Labs/product.csv')\n",
    "produtos.head()"
   ]
  },
  {
   "cell_type": "code",
   "execution_count": 6,
   "id": "dbb9c5d4-e998-429d-9ea4-d0e8673bb49d",
   "metadata": {},
   "outputs": [
    {
     "data": {
      "text/html": [
       "<div>\n",
       "<style scoped>\n",
       "    .dataframe tbody tr th:only-of-type {\n",
       "        vertical-align: middle;\n",
       "    }\n",
       "\n",
       "    .dataframe tbody tr th {\n",
       "        vertical-align: top;\n",
       "    }\n",
       "\n",
       "    .dataframe thead th {\n",
       "        text-align: right;\n",
       "    }\n",
       "</style>\n",
       "<table border=\"1\" class=\"dataframe\">\n",
       "  <thead>\n",
       "    <tr style=\"text-align: right;\">\n",
       "      <th></th>\n",
       "      <th>order_id</th>\n",
       "      <th>client_id</th>\n",
       "      <th>product_id</th>\n",
       "      <th>datetime</th>\n",
       "      <th>units</th>\n",
       "      <th>price</th>\n",
       "      <th>payment_method</th>\n",
       "      <th>installments</th>\n",
       "      <th>delivery_days</th>\n",
       "      <th>delivery_state</th>\n",
       "      <th>device</th>\n",
       "      <th>source</th>\n",
       "    </tr>\n",
       "  </thead>\n",
       "  <tbody>\n",
       "    <tr>\n",
       "      <th>0</th>\n",
       "      <td>ox008433</td>\n",
       "      <td>cx05072</td>\n",
       "      <td>px04611</td>\n",
       "      <td>2019-10-07 15:20:00</td>\n",
       "      <td>1.0</td>\n",
       "      <td>49.9</td>\n",
       "      <td>pm05</td>\n",
       "      <td>NaN</td>\n",
       "      <td>NaN</td>\n",
       "      <td>st07</td>\n",
       "      <td>dv9</td>\n",
       "      <td>sc08</td>\n",
       "    </tr>\n",
       "    <tr>\n",
       "      <th>1</th>\n",
       "      <td>ox070389</td>\n",
       "      <td>cx05072</td>\n",
       "      <td>px12305</td>\n",
       "      <td>2019-10-11 17:42:00</td>\n",
       "      <td>1.0</td>\n",
       "      <td>69.9</td>\n",
       "      <td>pm05</td>\n",
       "      <td>NaN</td>\n",
       "      <td>NaN</td>\n",
       "      <td>st07</td>\n",
       "      <td>dv9</td>\n",
       "      <td>sc08</td>\n",
       "    </tr>\n",
       "    <tr>\n",
       "      <th>2</th>\n",
       "      <td>ox061137</td>\n",
       "      <td>cx06840</td>\n",
       "      <td>px07033</td>\n",
       "      <td>2019-01-19 13:09:00</td>\n",
       "      <td>1.0</td>\n",
       "      <td>35.9</td>\n",
       "      <td>pm05</td>\n",
       "      <td>NaN</td>\n",
       "      <td>NaN</td>\n",
       "      <td>st07</td>\n",
       "      <td>dv9</td>\n",
       "      <td>sc08</td>\n",
       "    </tr>\n",
       "    <tr>\n",
       "      <th>3</th>\n",
       "      <td>ox061137</td>\n",
       "      <td>cx06840</td>\n",
       "      <td>px05992</td>\n",
       "      <td>2019-01-19 13:09:00</td>\n",
       "      <td>3.0</td>\n",
       "      <td>35.9</td>\n",
       "      <td>pm05</td>\n",
       "      <td>NaN</td>\n",
       "      <td>NaN</td>\n",
       "      <td>st07</td>\n",
       "      <td>dv9</td>\n",
       "      <td>sc08</td>\n",
       "    </tr>\n",
       "    <tr>\n",
       "      <th>4</th>\n",
       "      <td>ox038612</td>\n",
       "      <td>cx06840</td>\n",
       "      <td>px10040</td>\n",
       "      <td>2019-04-18 14:36:00</td>\n",
       "      <td>1.0</td>\n",
       "      <td>39.0</td>\n",
       "      <td>pm05</td>\n",
       "      <td>NaN</td>\n",
       "      <td>NaN</td>\n",
       "      <td>st07</td>\n",
       "      <td>dv9</td>\n",
       "      <td>sc08</td>\n",
       "    </tr>\n",
       "  </tbody>\n",
       "</table>\n",
       "</div>"
      ],
      "text/plain": [
       "   order_id client_id product_id             datetime  units  price  \\\n",
       "0  ox008433   cx05072    px04611  2019-10-07 15:20:00    1.0   49.9   \n",
       "1  ox070389   cx05072    px12305  2019-10-11 17:42:00    1.0   69.9   \n",
       "2  ox061137   cx06840    px07033  2019-01-19 13:09:00    1.0   35.9   \n",
       "3  ox061137   cx06840    px05992  2019-01-19 13:09:00    3.0   35.9   \n",
       "4  ox038612   cx06840    px10040  2019-04-18 14:36:00    1.0   39.0   \n",
       "\n",
       "  payment_method  installments  delivery_days delivery_state device source  \n",
       "0           pm05           NaN            NaN           st07    dv9   sc08  \n",
       "1           pm05           NaN            NaN           st07    dv9   sc08  \n",
       "2           pm05           NaN            NaN           st07    dv9   sc08  \n",
       "3           pm05           NaN            NaN           st07    dv9   sc08  \n",
       "4           pm05           NaN            NaN           st07    dv9   sc08  "
      ]
     },
     "execution_count": 6,
     "metadata": {},
     "output_type": "execute_result"
    }
   ],
   "source": [
    "# Data set de vendas\n",
    "\n",
    "vendas = pd.read_csv('C:/Users/55419/Desktop/tera/Conteudo curso DC/Desafio Luisa Labs/orders.csv')\n",
    "vendas.head()"
   ]
  },
  {
   "cell_type": "markdown",
   "id": "b3f32d87-92b9-4e6e-8e31-7a11298dfb88",
   "metadata": {
    "tags": []
   },
   "source": [
    "# Análise exploratória"
   ]
  },
  {
   "cell_type": "markdown",
   "id": "16191503-6bc8-4b8b-b3a4-c0c28aa9af67",
   "metadata": {
    "jp-MarkdownHeadingCollapsed": true,
    "tags": []
   },
   "source": [
    "## EDA DB treino"
   ]
  },
  {
   "cell_type": "code",
   "execution_count": 7,
   "id": "18487bf6-11bd-44c7-87a0-f2e4e328944d",
   "metadata": {},
   "outputs": [
    {
     "name": "stdout",
     "output_type": "stream",
     "text": [
      "<class 'pandas.core.frame.DataFrame'>\n",
      "RangeIndex: 7764 entries, 0 to 7763\n",
      "Data columns (total 5 columns):\n",
      " #   Column     Non-Null Count  Dtype \n",
      "---  ------     --------------  ----- \n",
      " 0   client_id  7764 non-null   object\n",
      " 1   birthdate  7764 non-null   object\n",
      " 2   state      7764 non-null   object\n",
      " 3   gender     7764 non-null   object\n",
      " 4   is_churn   7764 non-null   bool  \n",
      "dtypes: bool(1), object(4)\n",
      "memory usage: 250.3+ KB\n"
     ]
    }
   ],
   "source": [
    "df_treino.info()"
   ]
  },
  {
   "cell_type": "code",
   "execution_count": 8,
   "id": "04257fec-8ea1-4676-b77b-5c863dfa86a7",
   "metadata": {},
   "outputs": [
    {
     "data": {
      "text/html": [
       "<div>\n",
       "<style scoped>\n",
       "    .dataframe tbody tr th:only-of-type {\n",
       "        vertical-align: middle;\n",
       "    }\n",
       "\n",
       "    .dataframe tbody tr th {\n",
       "        vertical-align: top;\n",
       "    }\n",
       "\n",
       "    .dataframe thead th {\n",
       "        text-align: right;\n",
       "    }\n",
       "</style>\n",
       "<table border=\"1\" class=\"dataframe\">\n",
       "  <thead>\n",
       "    <tr style=\"text-align: right;\">\n",
       "      <th></th>\n",
       "      <th>client_id</th>\n",
       "      <th>birthdate</th>\n",
       "      <th>state</th>\n",
       "      <th>gender</th>\n",
       "      <th>is_churn</th>\n",
       "    </tr>\n",
       "  </thead>\n",
       "  <tbody>\n",
       "    <tr>\n",
       "      <th>count</th>\n",
       "      <td>7764</td>\n",
       "      <td>7764</td>\n",
       "      <td>7764</td>\n",
       "      <td>7764</td>\n",
       "      <td>7764</td>\n",
       "    </tr>\n",
       "    <tr>\n",
       "      <th>unique</th>\n",
       "      <td>7764</td>\n",
       "      <td>6252</td>\n",
       "      <td>25</td>\n",
       "      <td>2</td>\n",
       "      <td>2</td>\n",
       "    </tr>\n",
       "    <tr>\n",
       "      <th>top</th>\n",
       "      <td>cx06840</td>\n",
       "      <td>1990-01-01</td>\n",
       "      <td>st15</td>\n",
       "      <td>cg1</td>\n",
       "      <td>False</td>\n",
       "    </tr>\n",
       "    <tr>\n",
       "      <th>freq</th>\n",
       "      <td>1</td>\n",
       "      <td>18</td>\n",
       "      <td>2723</td>\n",
       "      <td>4241</td>\n",
       "      <td>6368</td>\n",
       "    </tr>\n",
       "  </tbody>\n",
       "</table>\n",
       "</div>"
      ],
      "text/plain": [
       "       client_id   birthdate state gender is_churn\n",
       "count       7764        7764  7764   7764     7764\n",
       "unique      7764        6252    25      2        2\n",
       "top      cx06840  1990-01-01  st15    cg1    False\n",
       "freq           1          18  2723   4241     6368"
      ]
     },
     "execution_count": 8,
     "metadata": {},
     "output_type": "execute_result"
    }
   ],
   "source": [
    "df_treino.describe()"
   ]
  },
  {
   "cell_type": "code",
   "execution_count": 9,
   "id": "86a59b35-9b9c-4aea-ad02-d471e726e166",
   "metadata": {},
   "outputs": [
    {
     "data": {
      "text/plain": [
       "<matplotlib.legend.Legend at 0x268add8a160>"
      ]
     },
     "execution_count": 9,
     "metadata": {},
     "output_type": "execute_result"
    },
    {
     "data": {
      "image/png": "[encoded data removed]",
      "text/plain": [
       "<Figure size 936x432 with 1 Axes>"
      ]
     },
     "metadata": {
      "needs_background": "light"
     },
     "output_type": "display_data"
    }
   ],
   "source": [
    "plt.figure(figsize=(13,6))\n",
    "sns.countplot(x='state', data=df_treino, hue='is_churn')\n",
    "plt.legend(loc='upper right')"
   ]
  },
  {
   "cell_type": "code",
   "execution_count": 10,
   "id": "a62538a1-e8e2-4bb6-af5f-f3724e0862f1",
   "metadata": {},
   "outputs": [
    {
     "data": {
      "text/plain": [
       "<matplotlib.legend.Legend at 0x268ae30aeb0>"
      ]
     },
     "execution_count": 10,
     "metadata": {},
     "output_type": "execute_result"
    },
    {
     "data": {
      "image/png": "[encoded data removed]",
      "text/plain": [
       "<Figure size 936x432 with 1 Axes>"
      ]
     },
     "metadata": {
      "needs_background": "light"
     },
     "output_type": "display_data"
    }
   ],
   "source": [
    "plt.figure(figsize=(13,6))\n",
    "sns.countplot(x='gender',data=df_treino,hue='is_churn')\n",
    "plt.legend(loc='upper right')"
   ]
  },
  {
   "cell_type": "markdown",
   "id": "09e92961-30ca-4b06-8e33-24699fbc5ea1",
   "metadata": {},
   "source": [
    "Criando uma nova coluna com o ano de nascimento do cliente, para poder avaliar a distribuição dos clientes por ano de nascimento"
   ]
  },
  {
   "cell_type": "code",
   "execution_count": 11,
   "id": "830c93ec-ca9c-4c79-ac20-50fc2c1a0d48",
   "metadata": {},
   "outputs": [],
   "source": [
    "df_treino['birthdate'] = pd.to_datetime(df_treino['birthdate']).dt.date\n",
    "df_treino['birthdate'] = pd.to_datetime(df_treino['birthdate'], format='%Y/%m/%d')\n",
    "\n",
    "df_treino['ano_nasc'] = df_treino['birthdate'].dt.year"
   ]
  },
  {
   "cell_type": "code",
   "execution_count": 12,
   "id": "4af9847b-1174-46d2-ad48-9e8c3634fe97",
   "metadata": {},
   "outputs": [
    {
     "data": {
      "text/plain": [
       "<AxesSubplot:xlabel='ano_nasc', ylabel='Count'>"
      ]
     },
     "execution_count": 12,
     "metadata": {},
     "output_type": "execute_result"
    },
    {
     "data": {
      "image/png": "[encoded data removed]",
      "text/plain": [
       "<Figure size 936x432 with 1 Axes>"
      ]
     },
     "metadata": {
      "needs_background": "light"
     },
     "output_type": "display_data"
    }
   ],
   "source": [
    "plt.figure(figsize=(13,6))\n",
    "sns.histplot(x=df_treino.ano_nasc, kde=True)"
   ]
  },
  {
   "cell_type": "code",
   "execution_count": 13,
   "id": "b961ab8f-36c1-4c04-b6f3-647dd76ada2e",
   "metadata": {},
   "outputs": [
    {
     "data": {
      "text/plain": [
       "<AxesSubplot:xlabel='ano_nasc', ylabel='count'>"
      ]
     },
     "execution_count": 13,
     "metadata": {},
     "output_type": "execute_result"
    },
    {
     "data": {
      "image/png": "[encoded data removed]",
      "text/plain": [
       "<Figure size 1872x1152 with 1 Axes>"
      ]
     },
     "metadata": {
      "needs_background": "light"
     },
     "output_type": "display_data"
    }
   ],
   "source": [
    "plt.figure(figsize=(26,16))\n",
    "sns.countplot(x='ano_nasc', data=df_treino, hue='is_churn')"
   ]
  },
  {
   "cell_type": "markdown",
   "id": "8582444c-910e-446e-953a-0bf8f79876d4",
   "metadata": {},
   "source": [
    "É possivel observar que a curva de churn não acompanha a curva de ano de nascimento"
   ]
  },
  {
   "cell_type": "code",
   "execution_count": 14,
   "id": "d96b1b5d-b209-4217-9564-fd8b7c252372",
   "metadata": {},
   "outputs": [
    {
     "data": {
      "text/plain": [
       "<AxesSubplot:xlabel='is_churn', ylabel='ano_nasc'>"
      ]
     },
     "execution_count": 14,
     "metadata": {},
     "output_type": "execute_result"
    },
    {
     "data": {
      "image/png": "[encoded data removed]",
      "text/plain": [
       "<Figure size 936x720 with 1 Axes>"
      ]
     },
     "metadata": {
      "needs_background": "light"
     },
     "output_type": "display_data"
    }
   ],
   "source": [
    "plt.figure(figsize=(13,10))\n",
    "sns.boxplot(data=df_treino, y='ano_nasc', x=\"is_churn\")"
   ]
  },
  {
   "cell_type": "markdown",
   "id": "2051e984-7ae8-4038-9332-accf1ea93abd",
   "metadata": {},
   "source": [
    "É possivel observar que temos clientes nascidos em 1900, tanto para churn true quanto para false, além disso pode-se observar clientes nascidos em 2010, ou seja menores de idade. "
   ]
  },
  {
   "cell_type": "code",
   "execution_count": 15,
   "id": "5e113524-2ded-4e2b-b9dd-100c943a8683",
   "metadata": {},
   "outputs": [
    {
     "data": {
      "text/plain": [
       "count    7764.000000\n",
       "mean     1976.912931\n",
       "std        13.633605\n",
       "min      1900.000000\n",
       "25%      1968.000000\n",
       "50%      1979.000000\n",
       "75%      1987.000000\n",
       "max      2010.000000\n",
       "Name: ano_nasc, dtype: float64"
      ]
     },
     "execution_count": 15,
     "metadata": {},
     "output_type": "execute_result"
    }
   ],
   "source": [
    "df_treino.ano_nasc.describe()"
   ]
  },
  {
   "cell_type": "code",
   "execution_count": 16,
   "id": "8f46aa5b-a28e-4a43-b8b2-9e2825ac5ee1",
   "metadata": {},
   "outputs": [
    {
     "data": {
      "text/plain": [
       "<AxesSubplot:xlabel='is_churn', ylabel='count'>"
      ]
     },
     "execution_count": 16,
     "metadata": {},
     "output_type": "execute_result"
    },
    {
     "data": {
      "image/png": "[encoded data removed]",
      "text/plain": [
       "<Figure size 432x288 with 1 Axes>"
      ]
     },
     "metadata": {
      "needs_background": "light"
     },
     "output_type": "display_data"
    }
   ],
   "source": [
    "sns.countplot(x='is_churn', data=df_treino)"
   ]
  },
  {
   "cell_type": "markdown",
   "id": "c7a2d852-9194-419b-a613-59d46f5928da",
   "metadata": {},
   "source": [
    "É possivel observar um certo desbalanceamento no data set de treino, temos algo prox. de 6500 clientes com a tag false, e 1500 com a tag true, isso pode gerar um problema na hora da modelagem do algoritimo de ML."
   ]
  },
  {
   "cell_type": "markdown",
   "id": "d42b546c-764f-4a4f-b652-d1118bee461f",
   "metadata": {
    "jp-MarkdownHeadingCollapsed": true,
    "tags": []
   },
   "source": [
    "## EDA DB produtos"
   ]
  },
  {
   "cell_type": "code",
   "execution_count": 17,
   "id": "f7a55297-f201-4355-838a-49ded982f89a",
   "metadata": {},
   "outputs": [
    {
     "name": "stdout",
     "output_type": "stream",
     "text": [
      "<class 'pandas.core.frame.DataFrame'>\n",
      "RangeIndex: 12659 entries, 0 to 12658\n",
      "Data columns (total 6 columns):\n",
      " #   Column        Non-Null Count  Dtype \n",
      "---  ------        --------------  ----- \n",
      " 0   product_id    12659 non-null  object\n",
      " 1   category_lv0  12659 non-null  object\n",
      " 2   category_lv1  12659 non-null  object\n",
      " 3   category_lv2  12659 non-null  object\n",
      " 4   category_lv3  12659 non-null  object\n",
      " 5   category_lv4  12659 non-null  object\n",
      "dtypes: object(6)\n",
      "memory usage: 593.5+ KB\n"
     ]
    }
   ],
   "source": [
    "produtos.info()"
   ]
  },
  {
   "cell_type": "code",
   "execution_count": 18,
   "id": "34c02884-2b25-4a02-958f-8bfb06efd981",
   "metadata": {},
   "outputs": [
    {
     "data": {
      "text/html": [
       "<div>\n",
       "<style scoped>\n",
       "    .dataframe tbody tr th:only-of-type {\n",
       "        vertical-align: middle;\n",
       "    }\n",
       "\n",
       "    .dataframe tbody tr th {\n",
       "        vertical-align: top;\n",
       "    }\n",
       "\n",
       "    .dataframe thead th {\n",
       "        text-align: right;\n",
       "    }\n",
       "</style>\n",
       "<table border=\"1\" class=\"dataframe\">\n",
       "  <thead>\n",
       "    <tr style=\"text-align: right;\">\n",
       "      <th></th>\n",
       "      <th>product_id</th>\n",
       "      <th>category_lv0</th>\n",
       "      <th>category_lv1</th>\n",
       "      <th>category_lv2</th>\n",
       "      <th>category_lv3</th>\n",
       "      <th>category_lv4</th>\n",
       "    </tr>\n",
       "  </thead>\n",
       "  <tbody>\n",
       "    <tr>\n",
       "      <th>count</th>\n",
       "      <td>12659</td>\n",
       "      <td>12659</td>\n",
       "      <td>12659</td>\n",
       "      <td>12659</td>\n",
       "      <td>12659</td>\n",
       "      <td>12659</td>\n",
       "    </tr>\n",
       "    <tr>\n",
       "      <th>unique</th>\n",
       "      <td>12659</td>\n",
       "      <td>52</td>\n",
       "      <td>296</td>\n",
       "      <td>893</td>\n",
       "      <td>1218</td>\n",
       "      <td>10763</td>\n",
       "    </tr>\n",
       "    <tr>\n",
       "      <th>top</th>\n",
       "      <td>px01237</td>\n",
       "      <td>mk17</td>\n",
       "      <td>mk21:089</td>\n",
       "      <td>mk03:092:378</td>\n",
       "      <td>mk03:092:378:103</td>\n",
       "      <td>mk35:072:177:182:09721</td>\n",
       "    </tr>\n",
       "    <tr>\n",
       "      <th>freq</th>\n",
       "      <td>1</td>\n",
       "      <td>1273</td>\n",
       "      <td>563</td>\n",
       "      <td>237</td>\n",
       "      <td>237</td>\n",
       "      <td>10</td>\n",
       "    </tr>\n",
       "  </tbody>\n",
       "</table>\n",
       "</div>"
      ],
      "text/plain": [
       "       product_id category_lv0 category_lv1  category_lv2      category_lv3  \\\n",
       "count       12659        12659        12659         12659             12659   \n",
       "unique      12659           52          296           893              1218   \n",
       "top       px01237         mk17     mk21:089  mk03:092:378  mk03:092:378:103   \n",
       "freq            1         1273          563           237               237   \n",
       "\n",
       "                  category_lv4  \n",
       "count                    12659  \n",
       "unique                   10763  \n",
       "top     mk35:072:177:182:09721  \n",
       "freq                        10  "
      ]
     },
     "execution_count": 18,
     "metadata": {},
     "output_type": "execute_result"
    }
   ],
   "source": [
    "produtos.describe(include='object')"
   ]
  },
  {
   "cell_type": "markdown",
   "id": "4b6ad718-4a46-4703-a8cd-44cec6dc44fb",
   "metadata": {},
   "source": [
    "Este DB traz todos os produtos, onde o ID é o identificador unico do produto, o category_lv0 é uma categoria generalizada, como por exemplo, vestuário, a category_lv1 seria camisa e as outras categorias seriam ainda mais específicas. É possivel obserbar que temos mais de 12 mil produtos, sendo assim, é interessante trabalharmos com eles em alguma categoria. A categoria lv4 é tão específica que conta com aprox. 10 mil produtos unicos, enquanto a lv0, conta com apenas 52 produtos unicos, ou seja é mais geral."
   ]
  },
  {
   "cell_type": "code",
   "execution_count": 19,
   "id": "6f8e7de4-9ffe-4253-beef-6858e090c0f9",
   "metadata": {},
   "outputs": [
    {
     "data": {
      "text/plain": [
       "<AxesSubplot:xlabel='category_lv0', ylabel='Count'>"
      ]
     },
     "execution_count": 19,
     "metadata": {},
     "output_type": "execute_result"
    },
    {
     "data": {
      "image/png": "[encoded data removed]",
      "text/plain": [
       "<Figure size 2160x720 with 1 Axes>"
      ]
     },
     "metadata": {
      "needs_background": "light"
     },
     "output_type": "display_data"
    }
   ],
   "source": [
    "plt.figure(figsize=(30,10))\n",
    "sns.histplot(x=produtos.category_lv0, kde=True)"
   ]
  },
  {
   "cell_type": "markdown",
   "id": "7170e839-94fc-4fa1-90c8-a7a895208ea7",
   "metadata": {
    "jp-MarkdownHeadingCollapsed": true,
    "tags": []
   },
   "source": [
    "# EDA DB vendas"
   ]
  },
  {
   "cell_type": "code",
   "execution_count": 20,
   "id": "da37706a-8782-435c-a858-8576bc02bb52",
   "metadata": {},
   "outputs": [
    {
     "name": "stdout",
     "output_type": "stream",
     "text": [
      "<class 'pandas.core.frame.DataFrame'>\n",
      "RangeIndex: 168472 entries, 0 to 168471\n",
      "Data columns (total 12 columns):\n",
      " #   Column          Non-Null Count   Dtype  \n",
      "---  ------          --------------   -----  \n",
      " 0   order_id        168472 non-null  object \n",
      " 1   client_id       168472 non-null  object \n",
      " 2   product_id      168472 non-null  object \n",
      " 3   datetime        168472 non-null  object \n",
      " 4   units           168472 non-null  float64\n",
      " 5   price           168472 non-null  float64\n",
      " 6   payment_method  168472 non-null  object \n",
      " 7   installments    36545 non-null   float64\n",
      " 8   delivery_days   89642 non-null   float64\n",
      " 9   delivery_state  168472 non-null  object \n",
      " 10  device          168472 non-null  object \n",
      " 11  source          168472 non-null  object \n",
      "dtypes: float64(4), object(8)\n",
      "memory usage: 15.4+ MB\n"
     ]
    }
   ],
   "source": [
    "vendas.info()"
   ]
  },
  {
   "cell_type": "markdown",
   "id": "bc5dd425-e609-48fa-ad28-b3d19d91cc28",
   "metadata": {},
   "source": [
    "Vemos que temos bastante dados faltantes em installments e delivery days. Installments se refere à quantidade de parcelas da compra, uma hipótese para os dados faltantes é que eles sejam referentes as compras realizadas sem parcelamento, ou seja, este valor é 1. Jápara delivery days, os valores faltantes pode ser por conta de compras realizadas e entregues no mesmo dias, sendo assim, este valor seria 0."
   ]
  },
  {
   "cell_type": "code",
   "execution_count": 21,
   "id": "81ff4aff-1236-4bad-a918-22ed5b3501c1",
   "metadata": {},
   "outputs": [
    {
     "data": {
      "text/plain": [
       "1.0     14451\n",
       "10.0     5700\n",
       "2.0      3726\n",
       "3.0      3064\n",
       "4.0      2431\n",
       "5.0      1826\n",
       "6.0      1309\n",
       "12.0      894\n",
       "8.0       734\n",
       "24.0      726\n",
       "7.0       688\n",
       "9.0       470\n",
       "15.0      113\n",
       "20.0       89\n",
       "11.0       86\n",
       "18.0       65\n",
       "16.0       42\n",
       "14.0       38\n",
       "13.0       27\n",
       "19.0       24\n",
       "17.0       16\n",
       "23.0       13\n",
       "22.0        8\n",
       "21.0        5\n",
       "Name: installments, dtype: int64"
      ]
     },
     "execution_count": 21,
     "metadata": {},
     "output_type": "execute_result"
    }
   ],
   "source": [
    "vendas.installments.value_counts()"
   ]
  },
  {
   "cell_type": "code",
   "execution_count": 22,
   "id": "90f25d9d-789f-4d0a-8085-f574e5cbeeef",
   "metadata": {},
   "outputs": [
    {
     "data": {
      "text/plain": [
       "<AxesSubplot:xlabel='installments'>"
      ]
     },
     "execution_count": 22,
     "metadata": {},
     "output_type": "execute_result"
    },
    {
     "data": {
      "image/png": "[encoded data removed]",
      "text/plain": [
       "<Figure size 936x720 with 1 Axes>"
      ]
     },
     "metadata": {
      "needs_background": "light"
     },
     "output_type": "display_data"
    }
   ],
   "source": [
    "plt.figure(figsize=(13,10))\n",
    "sns.boxplot(data=vendas, x='installments')"
   ]
  },
  {
   "cell_type": "code",
   "execution_count": 23,
   "id": "f8794e8d-c48b-4810-b6c8-924d374fb314",
   "metadata": {},
   "outputs": [
    {
     "data": {
      "text/plain": [
       "2.0      22493\n",
       "6.0       7450\n",
       "5.0       7217\n",
       "4.0       5491\n",
       "7.0       5417\n",
       "         ...  \n",
       "67.0         2\n",
       "63.0         2\n",
       "59.0         2\n",
       "69.0         1\n",
       "165.0        1\n",
       "Name: delivery_days, Length: 71, dtype: int64"
      ]
     },
     "execution_count": 23,
     "metadata": {},
     "output_type": "execute_result"
    }
   ],
   "source": [
    "vendas.delivery_days.value_counts()"
   ]
  },
  {
   "cell_type": "code",
   "execution_count": 24,
   "id": "93e0f2e3-49dc-42eb-b141-24600e5da07f",
   "metadata": {},
   "outputs": [
    {
     "data": {
      "text/plain": [
       "<AxesSubplot:xlabel='delivery_days'>"
      ]
     },
     "execution_count": 24,
     "metadata": {},
     "output_type": "execute_result"
    },
    {
     "data": {
      "image/png": "[encoded data removed]",
      "text/plain": [
       "<Figure size 936x720 with 1 Axes>"
      ]
     },
     "metadata": {
      "needs_background": "light"
     },
     "output_type": "display_data"
    }
   ],
   "source": [
    "plt.figure(figsize=(13,10))\n",
    "sns.boxplot(data=vendas, x='delivery_days')"
   ]
  },
  {
   "cell_type": "markdown",
   "id": "2dd84927-421b-444f-af2c-c5d02a656a77",
   "metadata": {},
   "source": [
    "Vemos entregas que que levaram muitos dias para serem entregues, outliers. Porém para o estudo de churn, acredito que esses outliers sejam extremamentes relevantes."
   ]
  },
  {
   "cell_type": "code",
   "execution_count": 25,
   "id": "26809b7b-7690-400c-b902-6153fd6700ab",
   "metadata": {},
   "outputs": [
    {
     "data": {
      "text/html": [
       "<div>\n",
       "<style scoped>\n",
       "    .dataframe tbody tr th:only-of-type {\n",
       "        vertical-align: middle;\n",
       "    }\n",
       "\n",
       "    .dataframe tbody tr th {\n",
       "        vertical-align: top;\n",
       "    }\n",
       "\n",
       "    .dataframe thead th {\n",
       "        text-align: right;\n",
       "    }\n",
       "</style>\n",
       "<table border=\"1\" class=\"dataframe\">\n",
       "  <thead>\n",
       "    <tr style=\"text-align: right;\">\n",
       "      <th></th>\n",
       "      <th>units</th>\n",
       "      <th>price</th>\n",
       "      <th>installments</th>\n",
       "      <th>delivery_days</th>\n",
       "    </tr>\n",
       "  </thead>\n",
       "  <tbody>\n",
       "    <tr>\n",
       "      <th>count</th>\n",
       "      <td>168472.000000</td>\n",
       "      <td>168472.000000</td>\n",
       "      <td>36545.000000</td>\n",
       "      <td>89642.000000</td>\n",
       "    </tr>\n",
       "    <tr>\n",
       "      <th>mean</th>\n",
       "      <td>1.228846</td>\n",
       "      <td>451.384291</td>\n",
       "      <td>4.551293</td>\n",
       "      <td>7.017938</td>\n",
       "    </tr>\n",
       "    <tr>\n",
       "      <th>std</th>\n",
       "      <td>1.504511</td>\n",
       "      <td>857.769280</td>\n",
       "      <td>4.704385</td>\n",
       "      <td>6.855334</td>\n",
       "    </tr>\n",
       "    <tr>\n",
       "      <th>min</th>\n",
       "      <td>0.000000</td>\n",
       "      <td>-8999.000000</td>\n",
       "      <td>1.000000</td>\n",
       "      <td>0.000000</td>\n",
       "    </tr>\n",
       "    <tr>\n",
       "      <th>25%</th>\n",
       "      <td>1.000000</td>\n",
       "      <td>39.900000</td>\n",
       "      <td>1.000000</td>\n",
       "      <td>2.000000</td>\n",
       "    </tr>\n",
       "    <tr>\n",
       "      <th>50%</th>\n",
       "      <td>1.000000</td>\n",
       "      <td>162.580000</td>\n",
       "      <td>3.000000</td>\n",
       "      <td>5.000000</td>\n",
       "    </tr>\n",
       "    <tr>\n",
       "      <th>75%</th>\n",
       "      <td>1.000000</td>\n",
       "      <td>699.000000</td>\n",
       "      <td>7.000000</td>\n",
       "      <td>9.000000</td>\n",
       "    </tr>\n",
       "    <tr>\n",
       "      <th>max</th>\n",
       "      <td>110.000000</td>\n",
       "      <td>25648.900000</td>\n",
       "      <td>24.000000</td>\n",
       "      <td>165.000000</td>\n",
       "    </tr>\n",
       "  </tbody>\n",
       "</table>\n",
       "</div>"
      ],
      "text/plain": [
       "               units          price  installments  delivery_days\n",
       "count  168472.000000  168472.000000  36545.000000   89642.000000\n",
       "mean        1.228846     451.384291      4.551293       7.017938\n",
       "std         1.504511     857.769280      4.704385       6.855334\n",
       "min         0.000000   -8999.000000      1.000000       0.000000\n",
       "25%         1.000000      39.900000      1.000000       2.000000\n",
       "50%         1.000000     162.580000      3.000000       5.000000\n",
       "75%         1.000000     699.000000      7.000000       9.000000\n",
       "max       110.000000   25648.900000     24.000000     165.000000"
      ]
     },
     "execution_count": 25,
     "metadata": {},
     "output_type": "execute_result"
    }
   ],
   "source": [
    "vendas.describe()"
   ]
  },
  {
   "cell_type": "code",
   "execution_count": 26,
   "id": "802ff01f-91c5-41cd-bb36-6e11c664304c",
   "metadata": {},
   "outputs": [
    {
     "data": {
      "text/plain": [
       "<AxesSubplot:xlabel='units'>"
      ]
     },
     "execution_count": 26,
     "metadata": {},
     "output_type": "execute_result"
    },
    {
     "data": {
      "image/png": "[encoded data removed]",
      "text/plain": [
       "<Figure size 936x720 with 1 Axes>"
      ]
     },
     "metadata": {
      "needs_background": "light"
     },
     "output_type": "display_data"
    }
   ],
   "source": [
    "plt.figure(figsize=(13,10))\n",
    "sns.boxplot(data=vendas, x='units')"
   ]
  },
  {
   "cell_type": "markdown",
   "id": "55dfb5ce-2d15-42ec-a55d-713af07d3d15",
   "metadata": {},
   "source": [
    "É possivel observar compras com mais de 100 itens, e compras de 0 itens, este ultimo é algo estranho, ainda não tive nenhuma ideia do que se trata. Já compras com muitos itens, pode ser por conta que o produto é vendido em uma unidade de medida diferente de unidades ou peças, como por exemplo, kilos ou metros."
   ]
  },
  {
   "cell_type": "code",
   "execution_count": 27,
   "id": "6f2cd642-ca56-4c92-8302-f0f217fa7bb7",
   "metadata": {},
   "outputs": [
    {
     "data": {
      "text/plain": [
       "<AxesSubplot:xlabel='price'>"
      ]
     },
     "execution_count": 27,
     "metadata": {},
     "output_type": "execute_result"
    },
    {
     "data": {
      "image/png": "[encoded data removed]",
      "text/plain": [
       "<Figure size 936x720 with 1 Axes>"
      ]
     },
     "metadata": {
      "needs_background": "light"
     },
     "output_type": "display_data"
    }
   ],
   "source": [
    "plt.figure(figsize=(13,10))\n",
    "sns.boxplot(data=vendas, x='price')"
   ]
  },
  {
   "cell_type": "markdown",
   "id": "148b52a9-4c76-4ff6-b527-de4ce378d744",
   "metadata": {},
   "source": [
    "É possivel observar valores negativos para preços, o que poderia ser referente à uma devolução."
   ]
  },
  {
   "cell_type": "code",
   "execution_count": 28,
   "id": "32ed1a5e-c07d-45f3-a70a-3ec4a3abc358",
   "metadata": {},
   "outputs": [
    {
     "data": {
      "text/html": [
       "<div>\n",
       "<style scoped>\n",
       "    .dataframe tbody tr th:only-of-type {\n",
       "        vertical-align: middle;\n",
       "    }\n",
       "\n",
       "    .dataframe tbody tr th {\n",
       "        vertical-align: top;\n",
       "    }\n",
       "\n",
       "    .dataframe thead th {\n",
       "        text-align: right;\n",
       "    }\n",
       "</style>\n",
       "<table border=\"1\" class=\"dataframe\">\n",
       "  <thead>\n",
       "    <tr style=\"text-align: right;\">\n",
       "      <th></th>\n",
       "      <th>order_id</th>\n",
       "      <th>client_id</th>\n",
       "      <th>product_id</th>\n",
       "      <th>datetime</th>\n",
       "      <th>payment_method</th>\n",
       "      <th>delivery_state</th>\n",
       "      <th>device</th>\n",
       "      <th>source</th>\n",
       "    </tr>\n",
       "  </thead>\n",
       "  <tbody>\n",
       "    <tr>\n",
       "      <th>count</th>\n",
       "      <td>168472</td>\n",
       "      <td>168472</td>\n",
       "      <td>168472</td>\n",
       "      <td>168472</td>\n",
       "      <td>168472</td>\n",
       "      <td>168472</td>\n",
       "      <td>168472</td>\n",
       "      <td>168472</td>\n",
       "    </tr>\n",
       "    <tr>\n",
       "      <th>unique</th>\n",
       "      <td>133209</td>\n",
       "      <td>38821</td>\n",
       "      <td>12535</td>\n",
       "      <td>102263</td>\n",
       "      <td>14</td>\n",
       "      <td>26</td>\n",
       "      <td>9</td>\n",
       "      <td>16</td>\n",
       "    </tr>\n",
       "    <tr>\n",
       "      <th>top</th>\n",
       "      <td>ox059501</td>\n",
       "      <td>cx33292</td>\n",
       "      <td>px10485</td>\n",
       "      <td>2019-11-29 10:29:00</td>\n",
       "      <td>pm05</td>\n",
       "      <td>st07</td>\n",
       "      <td>dv9</td>\n",
       "      <td>sc08</td>\n",
       "    </tr>\n",
       "    <tr>\n",
       "      <th>freq</th>\n",
       "      <td>5</td>\n",
       "      <td>101</td>\n",
       "      <td>1875</td>\n",
       "      <td>41</td>\n",
       "      <td>131927</td>\n",
       "      <td>97820</td>\n",
       "      <td>97794</td>\n",
       "      <td>97796</td>\n",
       "    </tr>\n",
       "  </tbody>\n",
       "</table>\n",
       "</div>"
      ],
      "text/plain": [
       "        order_id client_id product_id             datetime payment_method  \\\n",
       "count     168472    168472     168472               168472         168472   \n",
       "unique    133209     38821      12535               102263             14   \n",
       "top     ox059501   cx33292    px10485  2019-11-29 10:29:00           pm05   \n",
       "freq           5       101       1875                   41         131927   \n",
       "\n",
       "       delivery_state  device  source  \n",
       "count          168472  168472  168472  \n",
       "unique             26       9      16  \n",
       "top              st07     dv9    sc08  \n",
       "freq            97820   97794   97796  "
      ]
     },
     "execution_count": 28,
     "metadata": {},
     "output_type": "execute_result"
    }
   ],
   "source": [
    "vendas.describe(include='object')"
   ]
  },
  {
   "cell_type": "code",
   "execution_count": 29,
   "id": "c64afd9a-f218-4466-bdeb-46b06fbc2f28",
   "metadata": {},
   "outputs": [
    {
     "data": {
      "text/plain": [
       "<AxesSubplot:xlabel='payment_method', ylabel='Count'>"
      ]
     },
     "execution_count": 29,
     "metadata": {},
     "output_type": "execute_result"
    },
    {
     "data": {
      "image/png": "[encoded data removed]",
      "text/plain": [
       "<Figure size 936x720 with 1 Axes>"
      ]
     },
     "metadata": {
      "needs_background": "light"
     },
     "output_type": "display_data"
    }
   ],
   "source": [
    "plt.figure(figsize=(13,10))\n",
    "sns.histplot(x=vendas.payment_method)"
   ]
  },
  {
   "cell_type": "code",
   "execution_count": 30,
   "id": "ac4650dd-848b-4161-8e2c-60fc5cc47ddf",
   "metadata": {},
   "outputs": [
    {
     "data": {
      "text/plain": [
       "<AxesSubplot:xlabel='delivery_state', ylabel='Count'>"
      ]
     },
     "execution_count": 30,
     "metadata": {},
     "output_type": "execute_result"
    },
    {
     "data": {
      "image/png": "[encoded data removed]",
      "text/plain": [
       "<Figure size 936x432 with 1 Axes>"
      ]
     },
     "metadata": {
      "needs_background": "light"
     },
     "output_type": "display_data"
    }
   ],
   "source": [
    "plt.figure(figsize=(13,6))\n",
    "sns.histplot(x=vendas.delivery_state)"
   ]
  },
  {
   "cell_type": "code",
   "execution_count": 31,
   "id": "2b51804e-d65c-48e6-aea9-a70aa7d7024e",
   "metadata": {},
   "outputs": [
    {
     "data": {
      "text/plain": [
       "<AxesSubplot:xlabel='device', ylabel='Count'>"
      ]
     },
     "execution_count": 31,
     "metadata": {},
     "output_type": "execute_result"
    },
    {
     "data": {
      "image/png": "[encoded data removed]",
      "text/plain": [
       "<Figure size 936x432 with 1 Axes>"
      ]
     },
     "metadata": {
      "needs_background": "light"
     },
     "output_type": "display_data"
    }
   ],
   "source": [
    "plt.figure(figsize=(13,6))\n",
    "sns.histplot(x=vendas.device)"
   ]
  },
  {
   "cell_type": "code",
   "execution_count": 32,
   "id": "4e384815-adce-46a5-baa0-e621366da259",
   "metadata": {},
   "outputs": [
    {
     "data": {
      "text/plain": [
       "<AxesSubplot:xlabel='source', ylabel='Count'>"
      ]
     },
     "execution_count": 32,
     "metadata": {},
     "output_type": "execute_result"
    },
    {
     "data": {
      "image/png": "[encoded data removed]",
      "text/plain": [
       "<Figure size 936x432 with 1 Axes>"
      ]
     },
     "metadata": {
      "needs_background": "light"
     },
     "output_type": "display_data"
    }
   ],
   "source": [
    "plt.figure(figsize=(13,6))\n",
    "sns.histplot(x=vendas.source)"
   ]
  },
  {
   "cell_type": "markdown",
   "id": "be44f04c-5392-43ac-95bb-4747aa1297c2",
   "metadata": {
    "jp-MarkdownHeadingCollapsed": true,
    "tags": []
   },
   "source": [
    "# Juntando os DB"
   ]
  },
  {
   "cell_type": "code",
   "execution_count": 33,
   "id": "e47662dd-6d35-40e4-bb7e-7d93e9a40236",
   "metadata": {},
   "outputs": [],
   "source": [
    "df_1 = pd.merge(df_treino, vendas, on=\"client_id\")"
   ]
  },
  {
   "cell_type": "code",
   "execution_count": 34,
   "id": "30300e2b-5c49-4ae3-856d-5f617c119552",
   "metadata": {},
   "outputs": [],
   "source": [
    "df = pd.merge(df_1, produtos, on=\"product_id\")"
   ]
  },
  {
   "cell_type": "code",
   "execution_count": 35,
   "id": "22ff12c7-01fb-49f2-8a52-0cc9540cf7e2",
   "metadata": {},
   "outputs": [
    {
     "data": {
      "text/html": [
       "<div>\n",
       "<style scoped>\n",
       "    .dataframe tbody tr th:only-of-type {\n",
       "        vertical-align: middle;\n",
       "    }\n",
       "\n",
       "    .dataframe tbody tr th {\n",
       "        vertical-align: top;\n",
       "    }\n",
       "\n",
       "    .dataframe thead th {\n",
       "        text-align: right;\n",
       "    }\n",
       "</style>\n",
       "<table border=\"1\" class=\"dataframe\">\n",
       "  <thead>\n",
       "    <tr style=\"text-align: right;\">\n",
       "      <th></th>\n",
       "      <th>client_id</th>\n",
       "      <th>birthdate</th>\n",
       "      <th>state</th>\n",
       "      <th>gender</th>\n",
       "      <th>is_churn</th>\n",
       "      <th>ano_nasc</th>\n",
       "      <th>order_id</th>\n",
       "      <th>product_id</th>\n",
       "      <th>datetime</th>\n",
       "      <th>units</th>\n",
       "      <th>...</th>\n",
       "      <th>installments</th>\n",
       "      <th>delivery_days</th>\n",
       "      <th>delivery_state</th>\n",
       "      <th>device</th>\n",
       "      <th>source</th>\n",
       "      <th>category_lv0</th>\n",
       "      <th>category_lv1</th>\n",
       "      <th>category_lv2</th>\n",
       "      <th>category_lv3</th>\n",
       "      <th>category_lv4</th>\n",
       "    </tr>\n",
       "  </thead>\n",
       "  <tbody>\n",
       "    <tr>\n",
       "      <th>0</th>\n",
       "      <td>cx06840</td>\n",
       "      <td>1982-12-03</td>\n",
       "      <td>st15</td>\n",
       "      <td>cg1</td>\n",
       "      <td>False</td>\n",
       "      <td>1982</td>\n",
       "      <td>ox061137</td>\n",
       "      <td>px07033</td>\n",
       "      <td>2019-01-19 13:09:00</td>\n",
       "      <td>1.0</td>\n",
       "      <td>...</td>\n",
       "      <td>NaN</td>\n",
       "      <td>NaN</td>\n",
       "      <td>st07</td>\n",
       "      <td>dv9</td>\n",
       "      <td>sc08</td>\n",
       "      <td>mk05</td>\n",
       "      <td>mk05:072</td>\n",
       "      <td>mk05:072:256</td>\n",
       "      <td>mk05:072:256:182</td>\n",
       "      <td>mk05:072:256:182:09643</td>\n",
       "    </tr>\n",
       "    <tr>\n",
       "      <th>1</th>\n",
       "      <td>cx25248</td>\n",
       "      <td>1968-06-12</td>\n",
       "      <td>st15</td>\n",
       "      <td>cg1</td>\n",
       "      <td>False</td>\n",
       "      <td>1968</td>\n",
       "      <td>ox073738</td>\n",
       "      <td>px07033</td>\n",
       "      <td>2019-01-17 11:34:00</td>\n",
       "      <td>1.0</td>\n",
       "      <td>...</td>\n",
       "      <td>NaN</td>\n",
       "      <td>NaN</td>\n",
       "      <td>st07</td>\n",
       "      <td>dv9</td>\n",
       "      <td>sc08</td>\n",
       "      <td>mk05</td>\n",
       "      <td>mk05:072</td>\n",
       "      <td>mk05:072:256</td>\n",
       "      <td>mk05:072:256:182</td>\n",
       "      <td>mk05:072:256:182:09643</td>\n",
       "    </tr>\n",
       "    <tr>\n",
       "      <th>2</th>\n",
       "      <td>cx06840</td>\n",
       "      <td>1982-12-03</td>\n",
       "      <td>st15</td>\n",
       "      <td>cg1</td>\n",
       "      <td>False</td>\n",
       "      <td>1982</td>\n",
       "      <td>ox061137</td>\n",
       "      <td>px05992</td>\n",
       "      <td>2019-01-19 13:09:00</td>\n",
       "      <td>3.0</td>\n",
       "      <td>...</td>\n",
       "      <td>NaN</td>\n",
       "      <td>NaN</td>\n",
       "      <td>st07</td>\n",
       "      <td>dv9</td>\n",
       "      <td>sc08</td>\n",
       "      <td>mk05</td>\n",
       "      <td>mk05:072</td>\n",
       "      <td>mk05:072:056</td>\n",
       "      <td>mk05:072:056:182</td>\n",
       "      <td>mk05:072:056:182:07587</td>\n",
       "    </tr>\n",
       "    <tr>\n",
       "      <th>3</th>\n",
       "      <td>cx33791</td>\n",
       "      <td>1990-05-23</td>\n",
       "      <td>st15</td>\n",
       "      <td>cg1</td>\n",
       "      <td>True</td>\n",
       "      <td>1990</td>\n",
       "      <td>ox102977</td>\n",
       "      <td>px05992</td>\n",
       "      <td>2019-03-01 10:28:00</td>\n",
       "      <td>1.0</td>\n",
       "      <td>...</td>\n",
       "      <td>NaN</td>\n",
       "      <td>NaN</td>\n",
       "      <td>st07</td>\n",
       "      <td>dv9</td>\n",
       "      <td>sc08</td>\n",
       "      <td>mk05</td>\n",
       "      <td>mk05:072</td>\n",
       "      <td>mk05:072:056</td>\n",
       "      <td>mk05:072:056:182</td>\n",
       "      <td>mk05:072:056:182:07587</td>\n",
       "    </tr>\n",
       "    <tr>\n",
       "      <th>4</th>\n",
       "      <td>cx06840</td>\n",
       "      <td>1982-12-03</td>\n",
       "      <td>st15</td>\n",
       "      <td>cg1</td>\n",
       "      <td>False</td>\n",
       "      <td>1982</td>\n",
       "      <td>ox038612</td>\n",
       "      <td>px10040</td>\n",
       "      <td>2019-04-18 14:36:00</td>\n",
       "      <td>1.0</td>\n",
       "      <td>...</td>\n",
       "      <td>NaN</td>\n",
       "      <td>NaN</td>\n",
       "      <td>st07</td>\n",
       "      <td>dv9</td>\n",
       "      <td>sc08</td>\n",
       "      <td>mk17</td>\n",
       "      <td>mk17:251</td>\n",
       "      <td>mk17:251:555</td>\n",
       "      <td>mk17:251:555:070</td>\n",
       "      <td>mk17:251:555:070:01336</td>\n",
       "    </tr>\n",
       "  </tbody>\n",
       "</table>\n",
       "<p>5 rows × 22 columns</p>\n",
       "</div>"
      ],
      "text/plain": [
       "  client_id  birthdate state gender  is_churn  ano_nasc  order_id product_id  \\\n",
       "0   cx06840 1982-12-03  st15    cg1     False      1982  ox061137    px07033   \n",
       "1   cx25248 1968-06-12  st15    cg1     False      1968  ox073738    px07033   \n",
       "2   cx06840 1982-12-03  st15    cg1     False      1982  ox061137    px05992   \n",
       "3   cx33791 1990-05-23  st15    cg1      True      1990  ox102977    px05992   \n",
       "4   cx06840 1982-12-03  st15    cg1     False      1982  ox038612    px10040   \n",
       "\n",
       "              datetime  units  ...  installments delivery_days  \\\n",
       "0  2019-01-19 13:09:00    1.0  ...           NaN           NaN   \n",
       "1  2019-01-17 11:34:00    1.0  ...           NaN           NaN   \n",
       "2  2019-01-19 13:09:00    3.0  ...           NaN           NaN   \n",
       "3  2019-03-01 10:28:00    1.0  ...           NaN           NaN   \n",
       "4  2019-04-18 14:36:00    1.0  ...           NaN           NaN   \n",
       "\n",
       "   delivery_state  device source category_lv0 category_lv1  category_lv2  \\\n",
       "0            st07     dv9   sc08         mk05     mk05:072  mk05:072:256   \n",
       "1            st07     dv9   sc08         mk05     mk05:072  mk05:072:256   \n",
       "2            st07     dv9   sc08         mk05     mk05:072  mk05:072:056   \n",
       "3            st07     dv9   sc08         mk05     mk05:072  mk05:072:056   \n",
       "4            st07     dv9   sc08         mk17     mk17:251  mk17:251:555   \n",
       "\n",
       "       category_lv3            category_lv4  \n",
       "0  mk05:072:256:182  mk05:072:256:182:09643  \n",
       "1  mk05:072:256:182  mk05:072:256:182:09643  \n",
       "2  mk05:072:056:182  mk05:072:056:182:07587  \n",
       "3  mk05:072:056:182  mk05:072:056:182:07587  \n",
       "4  mk17:251:555:070  mk17:251:555:070:01336  \n",
       "\n",
       "[5 rows x 22 columns]"
      ]
     },
     "execution_count": 35,
     "metadata": {},
     "output_type": "execute_result"
    }
   ],
   "source": [
    "df.head()"
   ]
  },
  {
   "cell_type": "code",
   "execution_count": 36,
   "id": "af14b753-f645-4290-a3ff-11e998ec20f5",
   "metadata": {},
   "outputs": [
    {
     "name": "stdout",
     "output_type": "stream",
     "text": [
      "<class 'pandas.core.frame.DataFrame'>\n",
      "Int64Index: 33860 entries, 0 to 33859\n",
      "Data columns (total 22 columns):\n",
      " #   Column          Non-Null Count  Dtype         \n",
      "---  ------          --------------  -----         \n",
      " 0   client_id       33860 non-null  object        \n",
      " 1   birthdate       33860 non-null  datetime64[ns]\n",
      " 2   state           33860 non-null  object        \n",
      " 3   gender          33860 non-null  object        \n",
      " 4   is_churn        33860 non-null  bool          \n",
      " 5   ano_nasc        33860 non-null  int64         \n",
      " 6   order_id        33860 non-null  object        \n",
      " 7   product_id      33860 non-null  object        \n",
      " 8   datetime        33860 non-null  object        \n",
      " 9   units           33860 non-null  float64       \n",
      " 10  price           33860 non-null  float64       \n",
      " 11  payment_method  33860 non-null  object        \n",
      " 12  installments    7321 non-null   float64       \n",
      " 13  delivery_days   17966 non-null  float64       \n",
      " 14  delivery_state  33860 non-null  object        \n",
      " 15  device          33860 non-null  object        \n",
      " 16  source          33860 non-null  object        \n",
      " 17  category_lv0    33860 non-null  object        \n",
      " 18  category_lv1    33860 non-null  object        \n",
      " 19  category_lv2    33860 non-null  object        \n",
      " 20  category_lv3    33860 non-null  object        \n",
      " 21  category_lv4    33860 non-null  object        \n",
      "dtypes: bool(1), datetime64[ns](1), float64(4), int64(1), object(15)\n",
      "memory usage: 5.7+ MB\n"
     ]
    }
   ],
   "source": [
    "df.info()"
   ]
  },
  {
   "cell_type": "code",
   "execution_count": 37,
   "id": "ee351700-5568-469b-a22c-4f9712da6620",
   "metadata": {},
   "outputs": [
    {
     "data": {
      "text/html": [
       "<div>\n",
       "<style scoped>\n",
       "    .dataframe tbody tr th:only-of-type {\n",
       "        vertical-align: middle;\n",
       "    }\n",
       "\n",
       "    .dataframe tbody tr th {\n",
       "        vertical-align: top;\n",
       "    }\n",
       "\n",
       "    .dataframe thead th {\n",
       "        text-align: right;\n",
       "    }\n",
       "</style>\n",
       "<table border=\"1\" class=\"dataframe\">\n",
       "  <thead>\n",
       "    <tr style=\"text-align: right;\">\n",
       "      <th></th>\n",
       "      <th>ano_nasc</th>\n",
       "      <th>units</th>\n",
       "      <th>price</th>\n",
       "      <th>installments</th>\n",
       "      <th>delivery_days</th>\n",
       "    </tr>\n",
       "  </thead>\n",
       "  <tbody>\n",
       "    <tr>\n",
       "      <th>count</th>\n",
       "      <td>33860.000000</td>\n",
       "      <td>33860.000000</td>\n",
       "      <td>33860.000000</td>\n",
       "      <td>7321.000000</td>\n",
       "      <td>17966.000000</td>\n",
       "    </tr>\n",
       "    <tr>\n",
       "      <th>mean</th>\n",
       "      <td>1977.310071</td>\n",
       "      <td>1.233961</td>\n",
       "      <td>458.337521</td>\n",
       "      <td>4.558257</td>\n",
       "      <td>7.094401</td>\n",
       "    </tr>\n",
       "    <tr>\n",
       "      <th>std</th>\n",
       "      <td>13.616812</td>\n",
       "      <td>1.539891</td>\n",
       "      <td>863.254420</td>\n",
       "      <td>4.673074</td>\n",
       "      <td>6.902276</td>\n",
       "    </tr>\n",
       "    <tr>\n",
       "      <th>min</th>\n",
       "      <td>1900.000000</td>\n",
       "      <td>0.000000</td>\n",
       "      <td>-6682.680000</td>\n",
       "      <td>1.000000</td>\n",
       "      <td>0.000000</td>\n",
       "    </tr>\n",
       "    <tr>\n",
       "      <th>25%</th>\n",
       "      <td>1968.000000</td>\n",
       "      <td>1.000000</td>\n",
       "      <td>39.900000</td>\n",
       "      <td>1.000000</td>\n",
       "      <td>2.000000</td>\n",
       "    </tr>\n",
       "    <tr>\n",
       "      <th>50%</th>\n",
       "      <td>1980.000000</td>\n",
       "      <td>1.000000</td>\n",
       "      <td>159.995000</td>\n",
       "      <td>2.000000</td>\n",
       "      <td>5.000000</td>\n",
       "    </tr>\n",
       "    <tr>\n",
       "      <th>75%</th>\n",
       "      <td>1988.000000</td>\n",
       "      <td>1.000000</td>\n",
       "      <td>700.000000</td>\n",
       "      <td>8.000000</td>\n",
       "      <td>9.000000</td>\n",
       "    </tr>\n",
       "    <tr>\n",
       "      <th>max</th>\n",
       "      <td>2010.000000</td>\n",
       "      <td>100.000000</td>\n",
       "      <td>20699.100000</td>\n",
       "      <td>24.000000</td>\n",
       "      <td>63.000000</td>\n",
       "    </tr>\n",
       "  </tbody>\n",
       "</table>\n",
       "</div>"
      ],
      "text/plain": [
       "           ano_nasc         units         price  installments  delivery_days\n",
       "count  33860.000000  33860.000000  33860.000000   7321.000000   17966.000000\n",
       "mean    1977.310071      1.233961    458.337521      4.558257       7.094401\n",
       "std       13.616812      1.539891    863.254420      4.673074       6.902276\n",
       "min     1900.000000      0.000000  -6682.680000      1.000000       0.000000\n",
       "25%     1968.000000      1.000000     39.900000      1.000000       2.000000\n",
       "50%     1980.000000      1.000000    159.995000      2.000000       5.000000\n",
       "75%     1988.000000      1.000000    700.000000      8.000000       9.000000\n",
       "max     2010.000000    100.000000  20699.100000     24.000000      63.000000"
      ]
     },
     "execution_count": 37,
     "metadata": {},
     "output_type": "execute_result"
    }
   ],
   "source": [
    "df.describe()"
   ]
  },
  {
   "cell_type": "markdown",
   "id": "5b0ea87b-178a-4ad6-bbd0-498471bd832c",
   "metadata": {
    "jp-MarkdownHeadingCollapsed": true,
    "tags": []
   },
   "source": [
    "# Análise bivariada"
   ]
  },
  {
   "cell_type": "code",
   "execution_count": 38,
   "id": "60f99404-15ce-41d8-bf1d-a0f2dcc7cf5d",
   "metadata": {},
   "outputs": [
    {
     "data": {
      "text/plain": [
       "<matplotlib.legend.Legend at 0x268b2e19730>"
      ]
     },
     "execution_count": 38,
     "metadata": {},
     "output_type": "execute_result"
    },
    {
     "data": {
      "image/png": "[encoded data removed]",
      "text/plain": [
       "<Figure size 936x432 with 1 Axes>"
      ]
     },
     "metadata": {
      "needs_background": "light"
     },
     "output_type": "display_data"
    }
   ],
   "source": [
    "plt.figure(figsize=(13,6))\n",
    "sns.countplot(x='payment_method', data=df, hue='is_churn')\n",
    "plt.legend(loc='upper right')"
   ]
  },
  {
   "cell_type": "code",
   "execution_count": 39,
   "id": "93fb2474-ef1f-46ab-8136-fb9750d1e2b8",
   "metadata": {},
   "outputs": [
    {
     "data": {
      "text/plain": [
       "<matplotlib.legend.Legend at 0x268aff4e910>"
      ]
     },
     "execution_count": 39,
     "metadata": {},
     "output_type": "execute_result"
    },
    {
     "data": {
      "image/png": "[encoded data removed]",
      "text/plain": [
       "<Figure size 936x432 with 1 Axes>"
      ]
     },
     "metadata": {
      "needs_background": "light"
     },
     "output_type": "display_data"
    }
   ],
   "source": [
    "plt.figure(figsize=(13,6))\n",
    "sns.countplot(x='delivery_state', data=df, hue='is_churn')\n",
    "plt.legend(loc='upper right')"
   ]
  },
  {
   "cell_type": "code",
   "execution_count": 40,
   "id": "4002e086-8b9a-4026-a8df-557fedc521a1",
   "metadata": {},
   "outputs": [
    {
     "data": {
      "text/plain": [
       "<matplotlib.legend.Legend at 0x268ae30ae50>"
      ]
     },
     "execution_count": 40,
     "metadata": {},
     "output_type": "execute_result"
    },
    {
     "data": {
      "image/png": "[encoded data removed]",
      "text/plain": [
       "<Figure size 936x432 with 1 Axes>"
      ]
     },
     "metadata": {
      "needs_background": "light"
     },
     "output_type": "display_data"
    }
   ],
   "source": [
    "plt.figure(figsize=(13,6))\n",
    "sns.countplot(x='device', data=df, hue='is_churn')\n",
    "plt.legend(loc='upper right')"
   ]
  },
  {
   "cell_type": "code",
   "execution_count": 41,
   "id": "17f4adde-0eb7-4efb-a807-6de543776c07",
   "metadata": {},
   "outputs": [
    {
     "data": {
      "text/plain": [
       "<matplotlib.legend.Legend at 0x268b3a9c100>"
      ]
     },
     "execution_count": 41,
     "metadata": {},
     "output_type": "execute_result"
    },
    {
     "data": {
      "image/png": "[encoded data removed]",
      "text/plain": [
       "<Figure size 936x432 with 1 Axes>"
      ]
     },
     "metadata": {
      "needs_background": "light"
     },
     "output_type": "display_data"
    }
   ],
   "source": [
    "plt.figure(figsize=(13,6))\n",
    "sns.countplot(x='source', data=df, hue='is_churn')\n",
    "plt.legend(loc='upper right')"
   ]
  },
  {
   "cell_type": "code",
   "execution_count": 42,
   "id": "f607a0d9-d20d-453d-ae16-46cf52c1e4c4",
   "metadata": {},
   "outputs": [
    {
     "data": {
      "text/plain": [
       "<AxesSubplot:xlabel='is_churn', ylabel='installments'>"
      ]
     },
     "execution_count": 42,
     "metadata": {},
     "output_type": "execute_result"
    },
    {
     "data": {
      "image/png": "[encoded data removed]",
      "text/plain": [
       "<Figure size 936x720 with 1 Axes>"
      ]
     },
     "metadata": {
      "needs_background": "light"
     },
     "output_type": "display_data"
    }
   ],
   "source": [
    "plt.figure(figsize=(13,10))\n",
    "sns.boxplot(data=df, y='installments', x='is_churn')"
   ]
  },
  {
   "cell_type": "code",
   "execution_count": 43,
   "id": "049df876-1436-43ed-9451-a34ef960cb19",
   "metadata": {},
   "outputs": [
    {
     "data": {
      "text/plain": [
       "<AxesSubplot:xlabel='is_churn', ylabel='delivery_days'>"
      ]
     },
     "execution_count": 43,
     "metadata": {},
     "output_type": "execute_result"
    },
    {
     "data": {
      "image/png": "[encoded data removed]",
      "text/plain": [
       "<Figure size 936x720 with 1 Axes>"
      ]
     },
     "metadata": {
      "needs_background": "light"
     },
     "output_type": "display_data"
    }
   ],
   "source": [
    "plt.figure(figsize=(13,10))\n",
    "sns.boxplot(data=df, y='delivery_days', x='is_churn')"
   ]
  },
  {
   "cell_type": "code",
   "execution_count": 44,
   "id": "e7d094f6-bd0e-4ed6-8f5a-c49eb6989c31",
   "metadata": {},
   "outputs": [
    {
     "data": {
      "text/plain": [
       "<AxesSubplot:xlabel='is_churn', ylabel='units'>"
      ]
     },
     "execution_count": 44,
     "metadata": {},
     "output_type": "execute_result"
    },
    {
     "data": {
      "image/png": "[encoded data removed]",
      "text/plain": [
       "<Figure size 936x720 with 1 Axes>"
      ]
     },
     "metadata": {
      "needs_background": "light"
     },
     "output_type": "display_data"
    }
   ],
   "source": [
    "plt.figure(figsize=(13,10))\n",
    "sns.boxplot(data=df, y='units', x='is_churn')"
   ]
  },
  {
   "cell_type": "code",
   "execution_count": 45,
   "id": "e4792a0f-978a-4fda-8442-6cff1d889be1",
   "metadata": {},
   "outputs": [
    {
     "data": {
      "text/plain": [
       "<AxesSubplot:xlabel='is_churn', ylabel='price'>"
      ]
     },
     "execution_count": 45,
     "metadata": {},
     "output_type": "execute_result"
    },
    {
     "data": {
      "image/png": "[encoded data removed]",
      "text/plain": [
       "<Figure size 936x720 with 1 Axes>"
      ]
     },
     "metadata": {
      "needs_background": "light"
     },
     "output_type": "display_data"
    }
   ],
   "source": [
    "plt.figure(figsize=(13,10))\n",
    "sns.boxplot(data=df, y='price', x='is_churn')"
   ]
  },
  {
   "cell_type": "code",
   "execution_count": 46,
   "id": "11244928-d875-45ed-8316-12cd465218f2",
   "metadata": {},
   "outputs": [
    {
     "data": {
      "text/plain": [
       "<matplotlib.legend.Legend at 0x268b414f0d0>"
      ]
     },
     "execution_count": 46,
     "metadata": {},
     "output_type": "execute_result"
    },
    {
     "data": {
      "image/png": "[encoded data removed]",
      "text/plain": [
       "<Figure size 1656x1152 with 1 Axes>"
      ]
     },
     "metadata": {
      "needs_background": "light"
     },
     "output_type": "display_data"
    }
   ],
   "source": [
    "plt.figure(figsize=(23,16))\n",
    "sns.countplot(x='category_lv0', data=df, hue='is_churn')\n",
    "plt.legend(loc='upper right')"
   ]
  },
  {
   "cell_type": "markdown",
   "id": "7bb8549c-27d1-4048-bbe8-3ed63cfd9393",
   "metadata": {
    "jp-MarkdownHeadingCollapsed": true,
    "tags": []
   },
   "source": [
    "# Teste de hipótese"
   ]
  },
  {
   "cell_type": "markdown",
   "id": "e5ae3094-9389-42c1-8edf-9ae2c092f4b3",
   "metadata": {
    "tags": []
   },
   "source": [
    "## Teste qui-quadrado para avaliar se há relação entre genero e churn."
   ]
  },
  {
   "cell_type": "markdown",
   "id": "bce6196d-c89d-47ba-8635-515104d102b1",
   "metadata": {},
   "source": [
    " Para este teste irei utilizar o DB sem dados duplicados, ou seja, irei realizar este teste de hipótese considerando apenas se o cliente deu churn ou não, desconsiderando os dados de recompra deste cliente, pois assim estou realizando um teste que leva em conta apenas o genero. Caso eu optasse por utilizar o banco de dados com as varias compras realizadas pelo cliente no periodo de extração dos dados, eu poderia influenciar meu teste com base na recompra dos clientes, basicamente estou dizendo que pode existir uma hipótese que clientes \"x\" recompram mais que clientes \"y\", e isso influenciaria no meu teste de hipótese, que tem por objetivo analisar apenas a influencia do genero na variavel resposta \"is_churn\".\n",
    "\n",
    "H0 = não há relação\n",
    "\n",
    "H1 = há relação"
   ]
  },
  {
   "cell_type": "code",
   "execution_count": 47,
   "id": "ee07e02b-0be4-4960-bf88-acd0d81faa21",
   "metadata": {},
   "outputs": [],
   "source": [
    "df_hip_1 = df.copy()\n",
    "df_hip_1 = df_hip_1.drop_duplicates('client_id')"
   ]
  },
  {
   "cell_type": "code",
   "execution_count": 48,
   "id": "a3b226a4-8368-4e2c-bb41-dbbb78f89417",
   "metadata": {},
   "outputs": [
    {
     "name": "stdout",
     "output_type": "stream",
     "text": [
      "stat = 3.182, p = 0.074\n"
     ]
    }
   ],
   "source": [
    "from scipy.stats import chi2_contingency\n",
    "\n",
    "crosstab = pd.crosstab(df_hip_1['gender'],\n",
    "                      df_hip_1['is_churn'])\n",
    "\n",
    "stat, p,df_hip_1, expected = chi2_contingency(crosstab)\n",
    "print('stat = %.3f, p = %.3f' % (stat,p))"
   ]
  },
  {
   "cell_type": "markdown",
   "id": "90f33c7e-81a7-4433-8451-0b607eefb572",
   "metadata": {},
   "source": [
    "Como p-valor é superior à 0.05, pode-se dizer que não há diferença estatística entre genero e churn."
   ]
  },
  {
   "cell_type": "markdown",
   "id": "7b64c311-4a8f-47f5-b431-5ff582d6184d",
   "metadata": {},
   "source": [
    "## Teste qui-quadrado para idade e churn."
   ]
  },
  {
   "cell_type": "markdown",
   "id": "bf018971-1cab-461b-b0f6-a4e437a5c183",
   "metadata": {},
   "source": [
    "Para este teste é preciso criar uma faixa etária, e para isso utilizarei o ano de nascimento do cliente. Também irei seguir na mesma linha de pensamentodo teste anterior, ou seja, utilizarei o banco de dados sem as diversas compras do cliente no periodo de extração dos dados.\n",
    "\n",
    "H0 = não há relação entre idade e churn\n",
    "\n",
    "H1 = há relação entre idade e churn"
   ]
  },
  {
   "cell_type": "code",
   "execution_count": 49,
   "id": "3dace9d9-094f-4080-8635-bcdeadb7972a",
   "metadata": {},
   "outputs": [],
   "source": [
    "df_hip_2 = df.copy()\n",
    "df_hip_2['idade'] = 2019 - df_hip_2['ano_nasc']"
   ]
  },
  {
   "cell_type": "code",
   "execution_count": 50,
   "id": "59aa6b4b-462e-4dd0-a886-286c52225466",
   "metadata": {},
   "outputs": [
    {
     "name": "stdout",
     "output_type": "stream",
     "text": [
      "stat = 985.605, p = 0.000\n"
     ]
    }
   ],
   "source": [
    "crosstab = pd.crosstab(df_hip_2['idade'],\n",
    "                      df_hip_2['is_churn'])\n",
    "\n",
    "stat, p,df_hip_2, expected = chi2_contingency(crosstab)\n",
    "print('stat = %.3f, p = %.3f' % (stat,p))"
   ]
  },
  {
   "cell_type": "markdown",
   "id": "a4bf118b-a7bd-4470-8c96-069ab0afc2d3",
   "metadata": {},
   "source": [
    "Como p-valor é inferior à 0.05, pode-se dizer que há diferença estatistica entre idade e churn. Isto é até esperado, tendo em vista que pessoas mais velhas tendem à morrer, e consequentemente irão parar de comprar na minha loja, e automaticamente irão estar marcadas como churn no meus dados."
   ]
  },
  {
   "cell_type": "markdown",
   "id": "7dd3192d-e32f-4d71-bf69-5be7ac6d09fa",
   "metadata": {
    "jp-MarkdownHeadingCollapsed": true,
    "tags": []
   },
   "source": [
    "# Feature Engineering"
   ]
  },
  {
   "cell_type": "code",
   "execution_count": 51,
   "id": "61d5593f-a42b-42a4-9d26-58d5c2001122",
   "metadata": {},
   "outputs": [],
   "source": [
    "# Criando a variavel idade\n",
    "df['idade'] = 2019 - df.ano_nasc\n",
    "\n",
    "# Criando a variavel mês da compra\n",
    "df['datetime'] = pd.to_datetime(df['datetime']).dt.date\n",
    "df['datetime'] = pd.to_datetime(df['datetime'], format='%Y/%m/%d')\n",
    "df['mes_compra'] = df['datetime'].dt.month\n",
    "\n",
    "# Criando a variavel unidades compradas\n",
    "teste = df[['order_id', 'units']].groupby('order_id').sum().reset_index()\n",
    "df = pd.merge(teste, df, on=\"order_id\")\n",
    "df = df.rename(columns = {'units_x' : 'soma_units'})\n",
    "df = df.drop('units_y', axis=1)"
   ]
  },
  {
   "cell_type": "markdown",
   "id": "839b265d-36e3-47d6-96b1-b572f07e73ab",
   "metadata": {
    "jp-MarkdownHeadingCollapsed": true,
    "tags": []
   },
   "source": [
    "# Explorando as novas features"
   ]
  },
  {
   "cell_type": "code",
   "execution_count": 52,
   "id": "7db306d4-2027-4094-8b9c-a06f834aaf7a",
   "metadata": {},
   "outputs": [
    {
     "data": {
      "text/plain": [
       "<AxesSubplot:xlabel='is_churn', ylabel='soma_units'>"
      ]
     },
     "execution_count": 52,
     "metadata": {},
     "output_type": "execute_result"
    },
    {
     "data": {
      "image/png": "[encoded data removed]",
      "text/plain": [
       "<Figure size 936x720 with 1 Axes>"
      ]
     },
     "metadata": {
      "needs_background": "light"
     },
     "output_type": "display_data"
    }
   ],
   "source": [
    "plt.figure(figsize=(13,10))\n",
    "sns.boxplot(data=df, y='soma_units', x='is_churn')"
   ]
  },
  {
   "cell_type": "code",
   "execution_count": 53,
   "id": "85bcb149-b434-48a9-90f1-9de17549df73",
   "metadata": {},
   "outputs": [
    {
     "data": {
      "text/plain": [
       "<AxesSubplot:xlabel='is_churn', ylabel='idade'>"
      ]
     },
     "execution_count": 53,
     "metadata": {},
     "output_type": "execute_result"
    },
    {
     "data": {
      "image/png": "[encoded data removed]",
      "text/plain": [
       "<Figure size 936x720 with 1 Axes>"
      ]
     },
     "metadata": {
      "needs_background": "light"
     },
     "output_type": "display_data"
    }
   ],
   "source": [
    "plt.figure(figsize=(13,10))\n",
    "sns.boxplot(data=df, y='idade', x='is_churn')"
   ]
  },
  {
   "cell_type": "code",
   "execution_count": 54,
   "id": "82aabed5-7f6e-44ba-81ee-435d65b85d93",
   "metadata": {},
   "outputs": [
    {
     "data": {
      "text/plain": [
       "<AxesSubplot:xlabel='is_churn', ylabel='mes_compra'>"
      ]
     },
     "execution_count": 54,
     "metadata": {},
     "output_type": "execute_result"
    },
    {
     "data": {
      "image/png": "[encoded data removed]",
      "text/plain": [
       "<Figure size 936x720 with 1 Axes>"
      ]
     },
     "metadata": {
      "needs_background": "light"
     },
     "output_type": "display_data"
    }
   ],
   "source": [
    "plt.figure(figsize=(13,10))\n",
    "sns.boxplot(data=df, y='mes_compra', x='is_churn')"
   ]
  },
  {
   "cell_type": "markdown",
   "id": "76a98076-aa70-46ff-8a78-b9a56c799aa8",
   "metadata": {
    "jp-MarkdownHeadingCollapsed": true,
    "tags": []
   },
   "source": [
    "# Pré processamento dos dados"
   ]
  },
  {
   "cell_type": "code",
   "execution_count": 55,
   "id": "0f5028e9-f4d6-4494-a3c6-bd9cc877e15d",
   "metadata": {},
   "outputs": [
    {
     "name": "stdout",
     "output_type": "stream",
     "text": [
      "<class 'pandas.core.frame.DataFrame'>\n",
      "Int64Index: 33860 entries, 0 to 33859\n",
      "Data columns (total 24 columns):\n",
      " #   Column          Non-Null Count  Dtype         \n",
      "---  ------          --------------  -----         \n",
      " 0   order_id        33860 non-null  object        \n",
      " 1   soma_units      33860 non-null  float64       \n",
      " 2   client_id       33860 non-null  object        \n",
      " 3   birthdate       33860 non-null  datetime64[ns]\n",
      " 4   state           33860 non-null  object        \n",
      " 5   gender          33860 non-null  object        \n",
      " 6   is_churn        33860 non-null  bool          \n",
      " 7   ano_nasc        33860 non-null  int64         \n",
      " 8   product_id      33860 non-null  object        \n",
      " 9   datetime        33860 non-null  datetime64[ns]\n",
      " 10  price           33860 non-null  float64       \n",
      " 11  payment_method  33860 non-null  object        \n",
      " 12  installments    7321 non-null   float64       \n",
      " 13  delivery_days   17966 non-null  float64       \n",
      " 14  delivery_state  33860 non-null  object        \n",
      " 15  device          33860 non-null  object        \n",
      " 16  source          33860 non-null  object        \n",
      " 17  category_lv0    33860 non-null  object        \n",
      " 18  category_lv1    33860 non-null  object        \n",
      " 19  category_lv2    33860 non-null  object        \n",
      " 20  category_lv3    33860 non-null  object        \n",
      " 21  category_lv4    33860 non-null  object        \n",
      " 22  idade           33860 non-null  int64         \n",
      " 23  mes_compra      33860 non-null  int64         \n",
      "dtypes: bool(1), datetime64[ns](2), float64(4), int64(3), object(14)\n",
      "memory usage: 6.2+ MB\n"
     ]
    }
   ],
   "source": [
    "df.info()"
   ]
  },
  {
   "cell_type": "code",
   "execution_count": 56,
   "id": "5f855533-c573-49c6-b854-84aecf89a825",
   "metadata": {},
   "outputs": [],
   "source": [
    "df.installments.fillna(1, inplace=True)\n",
    "df.delivery_days.fillna(0, inplace=True)"
   ]
  },
  {
   "cell_type": "code",
   "execution_count": 57,
   "id": "e2013cbb-4524-4627-aac1-4f6998914beb",
   "metadata": {},
   "outputs": [
    {
     "name": "stdout",
     "output_type": "stream",
     "text": [
      "<class 'pandas.core.frame.DataFrame'>\n",
      "Int64Index: 33860 entries, 0 to 33859\n",
      "Data columns (total 24 columns):\n",
      " #   Column          Non-Null Count  Dtype         \n",
      "---  ------          --------------  -----         \n",
      " 0   order_id        33860 non-null  object        \n",
      " 1   soma_units      33860 non-null  float64       \n",
      " 2   client_id       33860 non-null  object        \n",
      " 3   birthdate       33860 non-null  datetime64[ns]\n",
      " 4   state           33860 non-null  object        \n",
      " 5   gender          33860 non-null  object        \n",
      " 6   is_churn        33860 non-null  bool          \n",
      " 7   ano_nasc        33860 non-null  int64         \n",
      " 8   product_id      33860 non-null  object        \n",
      " 9   datetime        33860 non-null  datetime64[ns]\n",
      " 10  price           33860 non-null  float64       \n",
      " 11  payment_method  33860 non-null  object        \n",
      " 12  installments    33860 non-null  float64       \n",
      " 13  delivery_days   33860 non-null  float64       \n",
      " 14  delivery_state  33860 non-null  object        \n",
      " 15  device          33860 non-null  object        \n",
      " 16  source          33860 non-null  object        \n",
      " 17  category_lv0    33860 non-null  object        \n",
      " 18  category_lv1    33860 non-null  object        \n",
      " 19  category_lv2    33860 non-null  object        \n",
      " 20  category_lv3    33860 non-null  object        \n",
      " 21  category_lv4    33860 non-null  object        \n",
      " 22  idade           33860 non-null  int64         \n",
      " 23  mes_compra      33860 non-null  int64         \n",
      "dtypes: bool(1), datetime64[ns](2), float64(4), int64(3), object(14)\n",
      "memory usage: 6.2+ MB\n"
     ]
    }
   ],
   "source": [
    "df.info()"
   ]
  },
  {
   "cell_type": "code",
   "execution_count": 58,
   "id": "d8c6f343-e75e-44c9-9550-7f2fcff0852a",
   "metadata": {},
   "outputs": [
    {
     "name": "stdout",
     "output_type": "stream",
     "text": [
      "<class 'pandas.core.frame.DataFrame'>\n",
      "Int64Index: 33860 entries, 0 to 33859\n",
      "Data columns (total 18 columns):\n",
      " #   Column          Non-Null Count  Dtype  \n",
      "---  ------          --------------  -----  \n",
      " 0   order_id        33860 non-null  object \n",
      " 1   soma_units      33860 non-null  float64\n",
      " 2   client_id       33860 non-null  object \n",
      " 3   state           33860 non-null  object \n",
      " 4   gender          33860 non-null  object \n",
      " 5   is_churn        33860 non-null  bool   \n",
      " 6   ano_nasc        33860 non-null  int64  \n",
      " 7   product_id      33860 non-null  object \n",
      " 8   price           33860 non-null  float64\n",
      " 9   payment_method  33860 non-null  object \n",
      " 10  installments    33860 non-null  float64\n",
      " 11  delivery_days   33860 non-null  float64\n",
      " 12  delivery_state  33860 non-null  object \n",
      " 13  device          33860 non-null  object \n",
      " 14  source          33860 non-null  object \n",
      " 15  category_lv0    33860 non-null  object \n",
      " 16  idade           33860 non-null  int64  \n",
      " 17  mes_compra      33860 non-null  int64  \n",
      "dtypes: bool(1), float64(4), int64(3), object(10)\n",
      "memory usage: 4.7+ MB\n"
     ]
    }
   ],
   "source": [
    "df = df.drop(columns =['category_lv1', 'category_lv2','category_lv3','category_lv4', 'birthdate', 'datetime'])\n",
    "df.info()"
   ]
  },
  {
   "cell_type": "code",
   "execution_count": 59,
   "id": "2a2f725a-4b03-474f-beb2-03430ec25313",
   "metadata": {},
   "outputs": [],
   "source": [
    "df['idade'] = np.where(df['idade']<18, 18,\n",
    "                   df.idade)"
   ]
  },
  {
   "cell_type": "code",
   "execution_count": 60,
   "id": "e5c223f6-a00c-4257-8bb6-bacfbfaf8509",
   "metadata": {},
   "outputs": [],
   "source": [
    "df['is_churn'] = np.where(df['is_churn'] == False, 0,\n",
    "                   1)"
   ]
  },
  {
   "cell_type": "code",
   "execution_count": 61,
   "id": "d2c4e9d9-6581-472c-814a-06361f3f41e1",
   "metadata": {},
   "outputs": [],
   "source": [
    "from sklearn import preprocessing\n",
    "\n",
    "le = preprocessing.LabelEncoder()\n",
    "\n",
    "df.client_id = le.fit_transform(df.client_id)\n",
    "df.state = le.fit_transform(df.state)\n",
    "df.gender = le.fit_transform(df.gender)\n",
    "df.product_id = le.fit_transform(df.product_id)\n",
    "df.payment_method = le.fit_transform(df.payment_method)\n",
    "df.delivery_state = le.fit_transform(df.delivery_state)\n",
    "df.device = le.fit_transform(df.device)\n",
    "df.source = le.fit_transform(df.source)\n",
    "df.category_lv0 = le.fit_transform(df.category_lv0)\n",
    "df.is_churn = le.fit_transform(df.is_churn)"
   ]
  },
  {
   "cell_type": "markdown",
   "id": "c7494aac-a6bd-4de9-b3ad-54fa663892ce",
   "metadata": {
    "jp-MarkdownHeadingCollapsed": true,
    "tags": []
   },
   "source": [
    "# Importando bibliotecas de ML"
   ]
  },
  {
   "cell_type": "code",
   "execution_count": 62,
   "id": "73bfc8f7-3986-4fb9-a403-3a81ec37a53d",
   "metadata": {},
   "outputs": [],
   "source": [
    "from sklearn.linear_model import LogisticRegression\n",
    "from sklearn.model_selection import train_test_split, RandomizedSearchCV\n",
    "from sklearn.ensemble import RandomForestClassifier \n",
    "from sklearn.tree import DecisionTreeClassifier\n",
    "from sklearn.metrics import (\n",
    "    precision_score,\n",
    "    recall_score,\n",
    "    f1_score,\n",
    "    accuracy_score,\n",
    "    confusion_matrix,\n",
    "    ConfusionMatrixDisplay\n",
    ")"
   ]
  },
  {
   "cell_type": "markdown",
   "id": "4897b083-6e20-47ff-ab9b-555accb2d80b",
   "metadata": {
    "tags": []
   },
   "source": [
    "# Modelo BaseLine"
   ]
  },
  {
   "cell_type": "markdown",
   "id": "a458297b-2672-42a8-adbf-9ee71bab88b7",
   "metadata": {},
   "source": [
    "## Funções auxiliares"
   ]
  },
  {
   "cell_type": "code",
   "execution_count": 63,
   "id": "5b1fdfe8-5565-45fa-9ee9-813dfef823c9",
   "metadata": {},
   "outputs": [],
   "source": [
    "#Criando uma função para visualizar a distribuição da variavel trarget\n",
    "\n",
    "def plot_proportion(y_true):\n",
    "  plt.style.use(\"ggplot\")\n",
    "  aux = (\n",
    "      pd.Series(y_true).value_counts()\n",
    "      .reset_index().rename({\"index\": \"class\", 0: \"samples\"}, axis=1)\n",
    "  )\n",
    "  fig, ax = plt.subplots(figsize=(12,5))\n",
    "  ax = sns.barplot(data=aux, x=\"class\", y=\"is_churn\", ax=ax)\n",
    "  ax.bar_label(ax.containers[0])"
   ]
  },
  {
   "cell_type": "code",
   "execution_count": 64,
   "id": "9fd122a0-0216-4421-b2cf-7ef6e3e11b08",
   "metadata": {},
   "outputs": [],
   "source": [
    "# Criando funções auxiliares para visualização de resultado\n",
    "\n",
    "def predict(cls, X_train, y_train, X_test, y_test, name):\n",
    "  dt.fit(X_train, y_train)\n",
    "  y_pred_proba = cls.predict_proba(X_test)[:,1]\n",
    "  metrics = evaluate(y_test, y_pred_proba)\n",
    "  metrics[\"name\"] = name\n",
    "  return metrics, y_pred_proba\n",
    "\n",
    "def evaluate(y_true, y_pred_proba, threshold=0.5):\n",
    "  y_pred = (y_pred_proba >= threshold).astype(int)\n",
    "  results = dict()\n",
    "  results[\"accuracy\"] = accuracy_score(y_true, y_pred)\n",
    "  results[\"precision\"] = precision_score(y_true, y_pred)\n",
    "  results[\"recall\"] = recall_score(y_true, y_pred)\n",
    "  results[\"f1\"] = f1_score(y_true, y_pred)\n",
    "  return results\n",
    "\n",
    "def append(df, row):\n",
    "  return pd.concat([df, pd.DataFrame([row])]).sort_values(\"f1\", ascending=False)"
   ]
  },
  {
   "cell_type": "markdown",
   "id": "1800187a-3320-439c-b2fa-9f2c4b2ddb24",
   "metadata": {},
   "source": [
    "## Train test split"
   ]
  },
  {
   "cell_type": "code",
   "execution_count": 65,
   "id": "ebffe6c3-aa7f-44d2-8bd5-d09e512d1c18",
   "metadata": {},
   "outputs": [
    {
     "data": {
      "image/png": "[encoded data removed]",
      "text/plain": [
       "<Figure size 864x360 with 1 Axes>"
      ]
     },
     "metadata": {},
     "output_type": "display_data"
    }
   ],
   "source": [
    "X = df.drop(['client_id', 'product_id', 'is_churn', 'order_id'], axis=1)\n",
    "y = df['is_churn']\n",
    "\n",
    "X_train, X_test, y_train, y_test = train_test_split(X,y, test_size=0.3, random_state=42)\n",
    "\n",
    "plot_proportion(y_train)"
   ]
  },
  {
   "cell_type": "markdown",
   "id": "9969e8ad-f1f0-49f2-9326-4c52213e0290",
   "metadata": {
    "tags": []
   },
   "source": [
    "## Modelagem DecisionTree Baseline"
   ]
  },
  {
   "cell_type": "code",
   "execution_count": 66,
   "id": "846e1669-22f4-4710-86e2-75a033d29e03",
   "metadata": {},
   "outputs": [
    {
     "name": "stdout",
     "output_type": "stream",
     "text": [
      "<class 'pandas.core.frame.DataFrame'>\n",
      "Int64Index: 33860 entries, 0 to 33859\n",
      "Data columns (total 18 columns):\n",
      " #   Column          Non-Null Count  Dtype  \n",
      "---  ------          --------------  -----  \n",
      " 0   order_id        33860 non-null  object \n",
      " 1   soma_units      33860 non-null  float64\n",
      " 2   client_id       33860 non-null  int32  \n",
      " 3   state           33860 non-null  int32  \n",
      " 4   gender          33860 non-null  int32  \n",
      " 5   is_churn        33860 non-null  int64  \n",
      " 6   ano_nasc        33860 non-null  int64  \n",
      " 7   product_id      33860 non-null  int32  \n",
      " 8   price           33860 non-null  float64\n",
      " 9   payment_method  33860 non-null  int32  \n",
      " 10  installments    33860 non-null  float64\n",
      " 11  delivery_days   33860 non-null  float64\n",
      " 12  delivery_state  33860 non-null  int32  \n",
      " 13  device          33860 non-null  int32  \n",
      " 14  source          33860 non-null  int32  \n",
      " 15  category_lv0    33860 non-null  int32  \n",
      " 16  idade           33860 non-null  int64  \n",
      " 17  mes_compra      33860 non-null  int64  \n",
      "dtypes: float64(4), int32(9), int64(4), object(1)\n",
      "memory usage: 3.7+ MB\n"
     ]
    }
   ],
   "source": [
    "df.info()"
   ]
  },
  {
   "cell_type": "code",
   "execution_count": 67,
   "id": "9018ae76-6105-49e8-932f-8d2fdc505de6",
   "metadata": {},
   "outputs": [
    {
     "data": {
      "text/plain": [
       "{'accuracy': 0.8308722189407364,\n",
       " 'precision': 0.6857142857142857,\n",
       " 'recall': 0.01386481802426343,\n",
       " 'f1': 0.027180067950169876,\n",
       " 'name': 'Baseline'}"
      ]
     },
     "execution_count": 67,
     "metadata": {},
     "output_type": "execute_result"
    }
   ],
   "source": [
    "dt = DecisionTreeClassifier(random_state=42, max_depth=3)\n",
    "dt.fit(X_train, y_train)\n",
    "bench_metrics, y_pred_proba = predict(dt, X_train, y_train, X_test, y_test, 'Baseline')\n",
    "bench_metrics"
   ]
  },
  {
   "cell_type": "code",
   "execution_count": 68,
   "id": "90996720-46ad-4235-ae0d-72b54e4a3229",
   "metadata": {},
   "outputs": [
    {
     "data": {
      "image/png": "[encoded data removed]",
      "text/plain": [
       "<Figure size 432x288 with 2 Axes>"
      ]
     },
     "metadata": {},
     "output_type": "display_data"
    }
   ],
   "source": [
    "from sklearn.metrics import ConfusionMatrixDisplay\n",
    "ConfusionMatrixDisplay.from_predictions(y_test, (y_pred_proba >= 0.5).astype(int), cmap=\"Blues\")\n",
    "plt.grid(False)"
   ]
  },
  {
   "cell_type": "code",
   "execution_count": 69,
   "id": "8e8b66a7-0108-4762-8375-9b46772c9e20",
   "metadata": {},
   "outputs": [
    {
     "data": {
      "text/html": [
       "<div>\n",
       "<style scoped>\n",
       "    .dataframe tbody tr th:only-of-type {\n",
       "        vertical-align: middle;\n",
       "    }\n",
       "\n",
       "    .dataframe tbody tr th {\n",
       "        vertical-align: top;\n",
       "    }\n",
       "\n",
       "    .dataframe thead th {\n",
       "        text-align: right;\n",
       "    }\n",
       "</style>\n",
       "<table border=\"1\" class=\"dataframe\">\n",
       "  <thead>\n",
       "    <tr style=\"text-align: right;\">\n",
       "      <th></th>\n",
       "      <th>accuracy</th>\n",
       "      <th>precision</th>\n",
       "      <th>recall</th>\n",
       "      <th>f1</th>\n",
       "      <th>name</th>\n",
       "    </tr>\n",
       "  </thead>\n",
       "  <tbody>\n",
       "    <tr>\n",
       "      <th>0</th>\n",
       "      <td>0.830872</td>\n",
       "      <td>0.685714</td>\n",
       "      <td>0.013865</td>\n",
       "      <td>0.02718</td>\n",
       "      <td>Baseline</td>\n",
       "    </tr>\n",
       "  </tbody>\n",
       "</table>\n",
       "</div>"
      ],
      "text/plain": [
       "   accuracy  precision    recall       f1      name\n",
       "0  0.830872   0.685714  0.013865  0.02718  Baseline"
      ]
     },
     "execution_count": 69,
     "metadata": {},
     "output_type": "execute_result"
    }
   ],
   "source": [
    "evaluations = pd.DataFrame()\n",
    "evaluations = append(evaluations, bench_metrics)\n",
    "evaluations"
   ]
  },
  {
   "cell_type": "markdown",
   "id": "d514a5bf-fc3e-4215-a26b-d51b4ef22e99",
   "metadata": {
    "tags": []
   },
   "source": [
    "# Melhorando a métrica da Decision Tree Baseline"
   ]
  },
  {
   "cell_type": "markdown",
   "id": "96d78af6-9425-48ca-94b3-22e8429a3c0d",
   "metadata": {
    "tags": []
   },
   "source": [
    "## Trabalhando o treshold"
   ]
  },
  {
   "cell_type": "code",
   "execution_count": 70,
   "id": "ff542b90-c1bc-4570-93bf-8b0973fee2ed",
   "metadata": {},
   "outputs": [
    {
     "data": {
      "text/html": [
       "<div>\n",
       "<style scoped>\n",
       "    .dataframe tbody tr th:only-of-type {\n",
       "        vertical-align: middle;\n",
       "    }\n",
       "\n",
       "    .dataframe tbody tr th {\n",
       "        vertical-align: top;\n",
       "    }\n",
       "\n",
       "    .dataframe thead th {\n",
       "        text-align: right;\n",
       "    }\n",
       "</style>\n",
       "<table border=\"1\" class=\"dataframe\">\n",
       "  <thead>\n",
       "    <tr style=\"text-align: right;\">\n",
       "      <th></th>\n",
       "      <th>accuracy</th>\n",
       "      <th>precision</th>\n",
       "      <th>recall</th>\n",
       "      <th>f1</th>\n",
       "      <th>name</th>\n",
       "    </tr>\n",
       "  </thead>\n",
       "  <tbody>\n",
       "    <tr>\n",
       "      <th>0</th>\n",
       "      <td>0.548829</td>\n",
       "      <td>0.224285</td>\n",
       "      <td>0.670133</td>\n",
       "      <td>0.336086</td>\n",
       "      <td>threshold_0.2</td>\n",
       "    </tr>\n",
       "    <tr>\n",
       "      <th>0</th>\n",
       "      <td>0.830872</td>\n",
       "      <td>0.685714</td>\n",
       "      <td>0.013865</td>\n",
       "      <td>0.027180</td>\n",
       "      <td>Baseline</td>\n",
       "    </tr>\n",
       "  </tbody>\n",
       "</table>\n",
       "</div>"
      ],
      "text/plain": [
       "   accuracy  precision    recall        f1           name\n",
       "0  0.548829   0.224285  0.670133  0.336086  threshold_0.2\n",
       "0  0.830872   0.685714  0.013865  0.027180       Baseline"
      ]
     },
     "execution_count": 70,
     "metadata": {},
     "output_type": "execute_result"
    }
   ],
   "source": [
    "best_f1 = 0\n",
    "best_threshold = 0\n",
    "for i in range(1, 10):\n",
    "  f1 = evaluate(y_test, y_pred_proba, threshold=i/10)[\"f1\"]\n",
    "  if f1 >= best_f1:\n",
    "    best_threshold = i/10\n",
    "    best_f1 = f1\n",
    "\n",
    "threshold_metric = evaluate(y_test, y_pred_proba, threshold=best_threshold)\n",
    "threshold_metric[\"name\"] = f\"threshold_{best_threshold}\"\n",
    "evaluations = append(evaluations, threshold_metric)\n",
    "evaluations"
   ]
  },
  {
   "cell_type": "code",
   "execution_count": 71,
   "id": "2c813e75-095d-4095-ae55-ad897b539ed2",
   "metadata": {},
   "outputs": [
    {
     "data": {
      "image/png": "[encoded data removed]",
      "text/plain": [
       "<Figure size 432x288 with 2 Axes>"
      ]
     },
     "metadata": {},
     "output_type": "display_data"
    }
   ],
   "source": [
    "ConfusionMatrixDisplay.from_predictions(y_test, (y_pred_proba >= 0.2).astype(int), cmap=\"Blues\")\n",
    "plt.grid(False)"
   ]
  },
  {
   "cell_type": "markdown",
   "id": "67fe5863-7eca-4859-9504-2e8ab2cb1737",
   "metadata": {},
   "source": [
    "É possivel notar uma melhora significativa em nosso F1, bem como o reflexo disso na matriz de confusão"
   ]
  },
  {
   "cell_type": "markdown",
   "id": "e61025d0-c617-464c-bdb5-c67537694388",
   "metadata": {
    "tags": []
   },
   "source": [
    "## Trabalhando com o balanceamento dos dados"
   ]
  },
  {
   "cell_type": "markdown",
   "id": "30b1371c-9483-4d82-80b8-729dc8344ae0",
   "metadata": {
    "tags": []
   },
   "source": [
    "### RandomUnderSampling"
   ]
  },
  {
   "cell_type": "code",
   "execution_count": 72,
   "id": "261842c9-f8c0-4cb5-96a4-d642021954d4",
   "metadata": {},
   "outputs": [
    {
     "data": {
      "image/png": "[encoded data removed]",
      "text/plain": [
       "<Figure size 864x360 with 1 Axes>"
      ]
     },
     "metadata": {},
     "output_type": "display_data"
    }
   ],
   "source": [
    "from imblearn.under_sampling import RandomUnderSampler\n",
    "\n",
    "rus = RandomUnderSampler(random_state=42)\n",
    "X_res, y_res = rus.fit_resample(X_train, y_train)\n",
    "plot_proportion(y_res)"
   ]
  },
  {
   "cell_type": "code",
   "execution_count": 73,
   "id": "6974c56f-0a56-4668-8376-d144958e4062",
   "metadata": {},
   "outputs": [
    {
     "data": {
      "text/html": [
       "<div>\n",
       "<style scoped>\n",
       "    .dataframe tbody tr th:only-of-type {\n",
       "        vertical-align: middle;\n",
       "    }\n",
       "\n",
       "    .dataframe tbody tr th {\n",
       "        vertical-align: top;\n",
       "    }\n",
       "\n",
       "    .dataframe thead th {\n",
       "        text-align: right;\n",
       "    }\n",
       "</style>\n",
       "<table border=\"1\" class=\"dataframe\">\n",
       "  <thead>\n",
       "    <tr style=\"text-align: right;\">\n",
       "      <th></th>\n",
       "      <th>accuracy</th>\n",
       "      <th>precision</th>\n",
       "      <th>recall</th>\n",
       "      <th>f1</th>\n",
       "      <th>name</th>\n",
       "    </tr>\n",
       "  </thead>\n",
       "  <tbody>\n",
       "    <tr>\n",
       "      <th>0</th>\n",
       "      <td>0.548829</td>\n",
       "      <td>0.224285</td>\n",
       "      <td>0.670133</td>\n",
       "      <td>0.336086</td>\n",
       "      <td>threshold_0.2</td>\n",
       "    </tr>\n",
       "    <tr>\n",
       "      <th>0</th>\n",
       "      <td>0.487202</td>\n",
       "      <td>0.212847</td>\n",
       "      <td>0.744656</td>\n",
       "      <td>0.331065</td>\n",
       "      <td>RandomUnderSampling</td>\n",
       "    </tr>\n",
       "    <tr>\n",
       "      <th>0</th>\n",
       "      <td>0.830872</td>\n",
       "      <td>0.685714</td>\n",
       "      <td>0.013865</td>\n",
       "      <td>0.027180</td>\n",
       "      <td>Baseline</td>\n",
       "    </tr>\n",
       "  </tbody>\n",
       "</table>\n",
       "</div>"
      ],
      "text/plain": [
       "   accuracy  precision    recall        f1                 name\n",
       "0  0.548829   0.224285  0.670133  0.336086        threshold_0.2\n",
       "0  0.487202   0.212847  0.744656  0.331065  RandomUnderSampling\n",
       "0  0.830872   0.685714  0.013865  0.027180             Baseline"
      ]
     },
     "execution_count": 73,
     "metadata": {},
     "output_type": "execute_result"
    }
   ],
   "source": [
    "dt = DecisionTreeClassifier(random_state=42, max_depth=3)\n",
    "rus_metrics, y_pred_proba = predict(dt, X_res, y_res, X_test, y_test, 'RandomUnderSampling')\n",
    "evaluations = append(evaluations, rus_metrics)\n",
    "evaluations"
   ]
  },
  {
   "cell_type": "code",
   "execution_count": 74,
   "id": "0ec15b42-dcb9-48df-8a88-fc5d2145bc08",
   "metadata": {},
   "outputs": [
    {
     "data": {
      "image/png": "[encoded data removed]",
      "text/plain": [
       "<Figure size 432x288 with 2 Axes>"
      ]
     },
     "metadata": {},
     "output_type": "display_data"
    }
   ],
   "source": [
    "ConfusionMatrixDisplay.from_predictions(y_test, (y_pred_proba >= 0.4).astype(int), cmap=\"Blues\")\n",
    "plt.grid(False)"
   ]
  },
  {
   "cell_type": "markdown",
   "id": "4e01802d-a3eb-40a1-b22d-a9d6f988d798",
   "metadata": {},
   "source": [
    "O balanceamento utilizando Random Under Sampling não apresentou um F1  melhor que o teshold de 0.2. O RUS teve seu verdadeiro negativo melhorado, porém teve uma piora em seu falso negativo quando comparado com o treshold de 0.2"
   ]
  },
  {
   "cell_type": "markdown",
   "id": "1191d7e4-615e-4624-b23c-c6aeccddce8e",
   "metadata": {
    "tags": []
   },
   "source": [
    "### UnderSampling - ENN"
   ]
  },
  {
   "cell_type": "code",
   "execution_count": 75,
   "id": "49e01a22-7e8e-4b67-9afa-d4664a3c9498",
   "metadata": {},
   "outputs": [
    {
     "data": {
      "image/png": "[encoded data removed]",
      "text/plain": [
       "<Figure size 864x360 with 1 Axes>"
      ]
     },
     "metadata": {},
     "output_type": "display_data"
    }
   ],
   "source": [
    "from imblearn.under_sampling import EditedNearestNeighbours\n",
    "enn = EditedNearestNeighbours(kind_sel=\"all\", n_neighbors=3)\n",
    "X_res, y_res = enn.fit_resample(X_train, y_train)\n",
    "plot_proportion(y_res)"
   ]
  },
  {
   "cell_type": "code",
   "execution_count": 76,
   "id": "bc2fac18-3fe9-4a08-835c-2c33a69bb150",
   "metadata": {},
   "outputs": [
    {
     "data": {
      "text/html": [
       "<div>\n",
       "<style scoped>\n",
       "    .dataframe tbody tr th:only-of-type {\n",
       "        vertical-align: middle;\n",
       "    }\n",
       "\n",
       "    .dataframe tbody tr th {\n",
       "        vertical-align: top;\n",
       "    }\n",
       "\n",
       "    .dataframe thead th {\n",
       "        text-align: right;\n",
       "    }\n",
       "</style>\n",
       "<table border=\"1\" class=\"dataframe\">\n",
       "  <thead>\n",
       "    <tr style=\"text-align: right;\">\n",
       "      <th></th>\n",
       "      <th>accuracy</th>\n",
       "      <th>precision</th>\n",
       "      <th>recall</th>\n",
       "      <th>f1</th>\n",
       "      <th>name</th>\n",
       "    </tr>\n",
       "  </thead>\n",
       "  <tbody>\n",
       "    <tr>\n",
       "      <th>0</th>\n",
       "      <td>0.548829</td>\n",
       "      <td>0.224285</td>\n",
       "      <td>0.670133</td>\n",
       "      <td>0.336086</td>\n",
       "      <td>threshold_0.2</td>\n",
       "    </tr>\n",
       "    <tr>\n",
       "      <th>0</th>\n",
       "      <td>0.487202</td>\n",
       "      <td>0.212847</td>\n",
       "      <td>0.744656</td>\n",
       "      <td>0.331065</td>\n",
       "      <td>RandomUnderSampling</td>\n",
       "    </tr>\n",
       "    <tr>\n",
       "      <th>0</th>\n",
       "      <td>0.824375</td>\n",
       "      <td>0.306569</td>\n",
       "      <td>0.024263</td>\n",
       "      <td>0.044968</td>\n",
       "      <td>EditedNearestNeighbours</td>\n",
       "    </tr>\n",
       "    <tr>\n",
       "      <th>0</th>\n",
       "      <td>0.830872</td>\n",
       "      <td>0.685714</td>\n",
       "      <td>0.013865</td>\n",
       "      <td>0.027180</td>\n",
       "      <td>Baseline</td>\n",
       "    </tr>\n",
       "  </tbody>\n",
       "</table>\n",
       "</div>"
      ],
      "text/plain": [
       "   accuracy  precision    recall        f1                     name\n",
       "0  0.548829   0.224285  0.670133  0.336086            threshold_0.2\n",
       "0  0.487202   0.212847  0.744656  0.331065      RandomUnderSampling\n",
       "0  0.824375   0.306569  0.024263  0.044968  EditedNearestNeighbours\n",
       "0  0.830872   0.685714  0.013865  0.027180                 Baseline"
      ]
     },
     "execution_count": 76,
     "metadata": {},
     "output_type": "execute_result"
    }
   ],
   "source": [
    "enn_metrics, y_pred_proba = predict(dt, X_res, y_res, X_test, y_test, 'EditedNearestNeighbours')\n",
    "evaluations = append(evaluations, enn_metrics)\n",
    "evaluations"
   ]
  },
  {
   "cell_type": "code",
   "execution_count": 77,
   "id": "1121ba06-1b28-4d49-a5a3-f5d418a17278",
   "metadata": {},
   "outputs": [
    {
     "data": {
      "image/png": "[encoded data removed]",
      "text/plain": [
       "<Figure size 432x288 with 2 Axes>"
      ]
     },
     "metadata": {},
     "output_type": "display_data"
    }
   ],
   "source": [
    "ConfusionMatrixDisplay.from_predictions(y_test, (y_pred_proba >= 0.4).astype(int), cmap=\"Blues\")\n",
    "plt.grid(False)"
   ]
  },
  {
   "cell_type": "markdown",
   "id": "6e6ef94b-b778-44fd-82e7-d2fc6311c278",
   "metadata": {},
   "source": [
    "ENN apresentou uma metrica tão baixa quanto meu modelo baseline."
   ]
  },
  {
   "cell_type": "markdown",
   "id": "06fe13b0-5185-4563-b011-a84e470e8869",
   "metadata": {
    "tags": []
   },
   "source": [
    "### Random Over Sampling"
   ]
  },
  {
   "cell_type": "code",
   "execution_count": 78,
   "id": "7502d639-af0f-46f9-8daa-98c98ca56af1",
   "metadata": {},
   "outputs": [
    {
     "data": {
      "image/png": "[encoded data removed]",
      "text/plain": [
       "<Figure size 864x360 with 1 Axes>"
      ]
     },
     "metadata": {},
     "output_type": "display_data"
    }
   ],
   "source": [
    "from imblearn.over_sampling import RandomOverSampler, SMOTE, ADASYN\n",
    "ros = RandomOverSampler(random_state=42)\n",
    "X_res, y_res = ros.fit_resample(X_train, y_train)\n",
    "plot_proportion(y_res)"
   ]
  },
  {
   "cell_type": "code",
   "execution_count": 79,
   "id": "fc81251d-faa3-4bc5-a47a-c4d4ece620bd",
   "metadata": {},
   "outputs": [
    {
     "data": {
      "text/html": [
       "<div>\n",
       "<style scoped>\n",
       "    .dataframe tbody tr th:only-of-type {\n",
       "        vertical-align: middle;\n",
       "    }\n",
       "\n",
       "    .dataframe tbody tr th {\n",
       "        vertical-align: top;\n",
       "    }\n",
       "\n",
       "    .dataframe thead th {\n",
       "        text-align: right;\n",
       "    }\n",
       "</style>\n",
       "<table border=\"1\" class=\"dataframe\">\n",
       "  <thead>\n",
       "    <tr style=\"text-align: right;\">\n",
       "      <th></th>\n",
       "      <th>accuracy</th>\n",
       "      <th>precision</th>\n",
       "      <th>recall</th>\n",
       "      <th>f1</th>\n",
       "      <th>name</th>\n",
       "    </tr>\n",
       "  </thead>\n",
       "  <tbody>\n",
       "    <tr>\n",
       "      <th>0</th>\n",
       "      <td>0.523528</td>\n",
       "      <td>0.221864</td>\n",
       "      <td>0.716349</td>\n",
       "      <td>0.338798</td>\n",
       "      <td>RandomOverSampling</td>\n",
       "    </tr>\n",
       "    <tr>\n",
       "      <th>0</th>\n",
       "      <td>0.548829</td>\n",
       "      <td>0.224285</td>\n",
       "      <td>0.670133</td>\n",
       "      <td>0.336086</td>\n",
       "      <td>threshold_0.2</td>\n",
       "    </tr>\n",
       "    <tr>\n",
       "      <th>0</th>\n",
       "      <td>0.487202</td>\n",
       "      <td>0.212847</td>\n",
       "      <td>0.744656</td>\n",
       "      <td>0.331065</td>\n",
       "      <td>RandomUnderSampling</td>\n",
       "    </tr>\n",
       "    <tr>\n",
       "      <th>0</th>\n",
       "      <td>0.824375</td>\n",
       "      <td>0.306569</td>\n",
       "      <td>0.024263</td>\n",
       "      <td>0.044968</td>\n",
       "      <td>EditedNearestNeighbours</td>\n",
       "    </tr>\n",
       "    <tr>\n",
       "      <th>0</th>\n",
       "      <td>0.830872</td>\n",
       "      <td>0.685714</td>\n",
       "      <td>0.013865</td>\n",
       "      <td>0.027180</td>\n",
       "      <td>Baseline</td>\n",
       "    </tr>\n",
       "  </tbody>\n",
       "</table>\n",
       "</div>"
      ],
      "text/plain": [
       "   accuracy  precision    recall        f1                     name\n",
       "0  0.523528   0.221864  0.716349  0.338798       RandomOverSampling\n",
       "0  0.548829   0.224285  0.670133  0.336086            threshold_0.2\n",
       "0  0.487202   0.212847  0.744656  0.331065      RandomUnderSampling\n",
       "0  0.824375   0.306569  0.024263  0.044968  EditedNearestNeighbours\n",
       "0  0.830872   0.685714  0.013865  0.027180                 Baseline"
      ]
     },
     "execution_count": 79,
     "metadata": {},
     "output_type": "execute_result"
    }
   ],
   "source": [
    "dt = DecisionTreeClassifier(random_state=42, max_depth=3)\n",
    "ros_metrics, y_pred_proba = predict(dt, X_res, y_res, X_test, y_test, 'RandomOverSampling')\n",
    "evaluations = append(evaluations, ros_metrics)\n",
    "evaluations"
   ]
  },
  {
   "cell_type": "code",
   "execution_count": 80,
   "id": "4e7e39f7-8e41-4032-b4c3-8f9e1d39e0d3",
   "metadata": {},
   "outputs": [
    {
     "data": {
      "image/png": "[encoded data removed]",
      "text/plain": [
       "<Figure size 432x288 with 2 Axes>"
      ]
     },
     "metadata": {},
     "output_type": "display_data"
    }
   ],
   "source": [
    "ConfusionMatrixDisplay.from_predictions(y_test, (y_pred_proba >= 0.4).astype(int), cmap=\"Blues\")\n",
    "plt.grid(False)"
   ]
  },
  {
   "cell_type": "markdown",
   "id": "c9aa29c8-18f6-4a5f-9c93-ad060d2a2018",
   "metadata": {},
   "source": [
    "O Random Over Sampling apresentou um F1 melhor que o teshold, porém o valor dos falsos negativos estão elevados."
   ]
  },
  {
   "cell_type": "markdown",
   "id": "d517ee29-036f-4f06-8fd1-ee48d57b857e",
   "metadata": {
    "tags": []
   },
   "source": [
    "### SMOTE"
   ]
  },
  {
   "cell_type": "code",
   "execution_count": 81,
   "id": "cc61daa0-9ceb-4e60-859c-031bd6cd55f3",
   "metadata": {},
   "outputs": [
    {
     "data": {
      "image/png": "[encoded data removed]",
      "text/plain": [
       "<Figure size 864x360 with 1 Axes>"
      ]
     },
     "metadata": {},
     "output_type": "display_data"
    }
   ],
   "source": [
    "smote = SMOTE(random_state=42)\n",
    "X_res, y_res = smote.fit_resample(X_train, y_train)\n",
    "plot_proportion(y_res)"
   ]
  },
  {
   "cell_type": "code",
   "execution_count": 82,
   "id": "6fb96490-5d65-4461-80f3-359762041a2e",
   "metadata": {},
   "outputs": [
    {
     "data": {
      "text/html": [
       "<div>\n",
       "<style scoped>\n",
       "    .dataframe tbody tr th:only-of-type {\n",
       "        vertical-align: middle;\n",
       "    }\n",
       "\n",
       "    .dataframe tbody tr th {\n",
       "        vertical-align: top;\n",
       "    }\n",
       "\n",
       "    .dataframe thead th {\n",
       "        text-align: right;\n",
       "    }\n",
       "</style>\n",
       "<table border=\"1\" class=\"dataframe\">\n",
       "  <thead>\n",
       "    <tr style=\"text-align: right;\">\n",
       "      <th></th>\n",
       "      <th>accuracy</th>\n",
       "      <th>precision</th>\n",
       "      <th>recall</th>\n",
       "      <th>f1</th>\n",
       "      <th>name</th>\n",
       "    </tr>\n",
       "  </thead>\n",
       "  <tbody>\n",
       "    <tr>\n",
       "      <th>0</th>\n",
       "      <td>0.523528</td>\n",
       "      <td>0.221864</td>\n",
       "      <td>0.716349</td>\n",
       "      <td>0.338798</td>\n",
       "      <td>RandomOverSampling</td>\n",
       "    </tr>\n",
       "    <tr>\n",
       "      <th>0</th>\n",
       "      <td>0.548829</td>\n",
       "      <td>0.224285</td>\n",
       "      <td>0.670133</td>\n",
       "      <td>0.336086</td>\n",
       "      <td>threshold_0.2</td>\n",
       "    </tr>\n",
       "    <tr>\n",
       "      <th>0</th>\n",
       "      <td>0.487202</td>\n",
       "      <td>0.212847</td>\n",
       "      <td>0.744656</td>\n",
       "      <td>0.331065</td>\n",
       "      <td>RandomUnderSampling</td>\n",
       "    </tr>\n",
       "    <tr>\n",
       "      <th>0</th>\n",
       "      <td>0.462197</td>\n",
       "      <td>0.191468</td>\n",
       "      <td>0.668977</td>\n",
       "      <td>0.297725</td>\n",
       "      <td>SMOTE</td>\n",
       "    </tr>\n",
       "    <tr>\n",
       "      <th>0</th>\n",
       "      <td>0.824375</td>\n",
       "      <td>0.306569</td>\n",
       "      <td>0.024263</td>\n",
       "      <td>0.044968</td>\n",
       "      <td>EditedNearestNeighbours</td>\n",
       "    </tr>\n",
       "    <tr>\n",
       "      <th>0</th>\n",
       "      <td>0.830872</td>\n",
       "      <td>0.685714</td>\n",
       "      <td>0.013865</td>\n",
       "      <td>0.027180</td>\n",
       "      <td>Baseline</td>\n",
       "    </tr>\n",
       "  </tbody>\n",
       "</table>\n",
       "</div>"
      ],
      "text/plain": [
       "   accuracy  precision    recall        f1                     name\n",
       "0  0.523528   0.221864  0.716349  0.338798       RandomOverSampling\n",
       "0  0.548829   0.224285  0.670133  0.336086            threshold_0.2\n",
       "0  0.487202   0.212847  0.744656  0.331065      RandomUnderSampling\n",
       "0  0.462197   0.191468  0.668977  0.297725                    SMOTE\n",
       "0  0.824375   0.306569  0.024263  0.044968  EditedNearestNeighbours\n",
       "0  0.830872   0.685714  0.013865  0.027180                 Baseline"
      ]
     },
     "execution_count": 82,
     "metadata": {},
     "output_type": "execute_result"
    }
   ],
   "source": [
    "smote_metrics, y_pred_proba = predict(dt, X_res, y_res, X_test, y_test, 'SMOTE')\n",
    "evaluations = append(evaluations, smote_metrics)\n",
    "evaluations"
   ]
  },
  {
   "cell_type": "code",
   "execution_count": 83,
   "id": "26b812ef-1013-4cbe-80f4-2a0b6dd45285",
   "metadata": {},
   "outputs": [
    {
     "data": {
      "image/png": "[encoded data removed]",
      "text/plain": [
       "<Figure size 432x288 with 2 Axes>"
      ]
     },
     "metadata": {},
     "output_type": "display_data"
    }
   ],
   "source": [
    "ConfusionMatrixDisplay.from_predictions(y_test, (y_pred_proba >= 0.4).astype(int), cmap=\"Blues\")\n",
    "plt.grid(False)"
   ]
  },
  {
   "cell_type": "markdown",
   "id": "20e2ba90-5395-4589-842e-3152fdde764c",
   "metadata": {
    "tags": []
   },
   "source": [
    "### ADASYN"
   ]
  },
  {
   "cell_type": "code",
   "execution_count": 84,
   "id": "595fd144-d63a-42f7-aa88-aa273825b421",
   "metadata": {},
   "outputs": [
    {
     "data": {
      "image/png": "[encoded data removed]",
      "text/plain": [
       "<Figure size 864x360 with 1 Axes>"
      ]
     },
     "metadata": {},
     "output_type": "display_data"
    }
   ],
   "source": [
    "adasyn = ADASYN(random_state=42)\n",
    "X_res, y_res = adasyn.fit_resample(X_train, y_train)\n",
    "plot_proportion(y_res)"
   ]
  },
  {
   "cell_type": "code",
   "execution_count": 85,
   "id": "087f0615-67ec-4add-8236-8cef3c3a3476",
   "metadata": {},
   "outputs": [
    {
     "data": {
      "text/html": [
       "<div>\n",
       "<style scoped>\n",
       "    .dataframe tbody tr th:only-of-type {\n",
       "        vertical-align: middle;\n",
       "    }\n",
       "\n",
       "    .dataframe tbody tr th {\n",
       "        vertical-align: top;\n",
       "    }\n",
       "\n",
       "    .dataframe thead th {\n",
       "        text-align: right;\n",
       "    }\n",
       "</style>\n",
       "<table border=\"1\" class=\"dataframe\">\n",
       "  <thead>\n",
       "    <tr style=\"text-align: right;\">\n",
       "      <th></th>\n",
       "      <th>accuracy</th>\n",
       "      <th>precision</th>\n",
       "      <th>recall</th>\n",
       "      <th>f1</th>\n",
       "      <th>name</th>\n",
       "    </tr>\n",
       "  </thead>\n",
       "  <tbody>\n",
       "    <tr>\n",
       "      <th>0</th>\n",
       "      <td>0.523528</td>\n",
       "      <td>0.221864</td>\n",
       "      <td>0.716349</td>\n",
       "      <td>0.338798</td>\n",
       "      <td>RandomOverSampling</td>\n",
       "    </tr>\n",
       "    <tr>\n",
       "      <th>0</th>\n",
       "      <td>0.548829</td>\n",
       "      <td>0.224285</td>\n",
       "      <td>0.670133</td>\n",
       "      <td>0.336086</td>\n",
       "      <td>threshold_0.2</td>\n",
       "    </tr>\n",
       "    <tr>\n",
       "      <th>0</th>\n",
       "      <td>0.487202</td>\n",
       "      <td>0.212847</td>\n",
       "      <td>0.744656</td>\n",
       "      <td>0.331065</td>\n",
       "      <td>RandomUnderSampling</td>\n",
       "    </tr>\n",
       "    <tr>\n",
       "      <th>0</th>\n",
       "      <td>0.462197</td>\n",
       "      <td>0.191468</td>\n",
       "      <td>0.668977</td>\n",
       "      <td>0.297725</td>\n",
       "      <td>SMOTE</td>\n",
       "    </tr>\n",
       "    <tr>\n",
       "      <th>0</th>\n",
       "      <td>0.670998</td>\n",
       "      <td>0.215672</td>\n",
       "      <td>0.352975</td>\n",
       "      <td>0.267748</td>\n",
       "      <td>ADASYN</td>\n",
       "    </tr>\n",
       "    <tr>\n",
       "      <th>0</th>\n",
       "      <td>0.824375</td>\n",
       "      <td>0.306569</td>\n",
       "      <td>0.024263</td>\n",
       "      <td>0.044968</td>\n",
       "      <td>EditedNearestNeighbours</td>\n",
       "    </tr>\n",
       "    <tr>\n",
       "      <th>0</th>\n",
       "      <td>0.830872</td>\n",
       "      <td>0.685714</td>\n",
       "      <td>0.013865</td>\n",
       "      <td>0.027180</td>\n",
       "      <td>Baseline</td>\n",
       "    </tr>\n",
       "  </tbody>\n",
       "</table>\n",
       "</div>"
      ],
      "text/plain": [
       "   accuracy  precision    recall        f1                     name\n",
       "0  0.523528   0.221864  0.716349  0.338798       RandomOverSampling\n",
       "0  0.548829   0.224285  0.670133  0.336086            threshold_0.2\n",
       "0  0.487202   0.212847  0.744656  0.331065      RandomUnderSampling\n",
       "0  0.462197   0.191468  0.668977  0.297725                    SMOTE\n",
       "0  0.670998   0.215672  0.352975  0.267748                   ADASYN\n",
       "0  0.824375   0.306569  0.024263  0.044968  EditedNearestNeighbours\n",
       "0  0.830872   0.685714  0.013865  0.027180                 Baseline"
      ]
     },
     "execution_count": 85,
     "metadata": {},
     "output_type": "execute_result"
    }
   ],
   "source": [
    "adasyn_metrics, y_pred_proba = predict(dt, X_res, y_res, X_test, y_test, \"ADASYN\")\n",
    "evaluations = append(evaluations, adasyn_metrics)\n",
    "evaluations"
   ]
  },
  {
   "cell_type": "code",
   "execution_count": 86,
   "id": "3672dd73-0ec7-4e0a-8c07-08ee3768da2d",
   "metadata": {},
   "outputs": [
    {
     "data": {
      "image/png": "[encoded data removed]",
      "text/plain": [
       "<Figure size 432x288 with 2 Axes>"
      ]
     },
     "metadata": {},
     "output_type": "display_data"
    }
   ],
   "source": [
    "ConfusionMatrixDisplay.from_predictions(y_test, (y_pred_proba >= 0.4).astype(int), cmap=\"Blues\")\n",
    "plt.grid(False)"
   ]
  },
  {
   "cell_type": "markdown",
   "id": "15cdc492-9b39-49a7-ba2f-f858feba13b3",
   "metadata": {
    "tags": []
   },
   "source": [
    "### Resultado dos modelos com balanceamento dos dados"
   ]
  },
  {
   "cell_type": "code",
   "execution_count": 87,
   "id": "4fcbbaef-10e1-4f04-933e-ad6fa7877206",
   "metadata": {},
   "outputs": [
    {
     "data": {
      "text/html": [
       "<div>\n",
       "<style scoped>\n",
       "    .dataframe tbody tr th:only-of-type {\n",
       "        vertical-align: middle;\n",
       "    }\n",
       "\n",
       "    .dataframe tbody tr th {\n",
       "        vertical-align: top;\n",
       "    }\n",
       "\n",
       "    .dataframe thead th {\n",
       "        text-align: right;\n",
       "    }\n",
       "</style>\n",
       "<table border=\"1\" class=\"dataframe\">\n",
       "  <thead>\n",
       "    <tr style=\"text-align: right;\">\n",
       "      <th></th>\n",
       "      <th>accuracy</th>\n",
       "      <th>precision</th>\n",
       "      <th>recall</th>\n",
       "      <th>f1</th>\n",
       "      <th>name</th>\n",
       "    </tr>\n",
       "  </thead>\n",
       "  <tbody>\n",
       "    <tr>\n",
       "      <th>0</th>\n",
       "      <td>0.523528</td>\n",
       "      <td>0.221864</td>\n",
       "      <td>0.716349</td>\n",
       "      <td>0.338798</td>\n",
       "      <td>RandomOverSampling</td>\n",
       "    </tr>\n",
       "    <tr>\n",
       "      <th>0</th>\n",
       "      <td>0.548829</td>\n",
       "      <td>0.224285</td>\n",
       "      <td>0.670133</td>\n",
       "      <td>0.336086</td>\n",
       "      <td>threshold_0.2</td>\n",
       "    </tr>\n",
       "    <tr>\n",
       "      <th>0</th>\n",
       "      <td>0.487202</td>\n",
       "      <td>0.212847</td>\n",
       "      <td>0.744656</td>\n",
       "      <td>0.331065</td>\n",
       "      <td>RandomUnderSampling</td>\n",
       "    </tr>\n",
       "    <tr>\n",
       "      <th>0</th>\n",
       "      <td>0.462197</td>\n",
       "      <td>0.191468</td>\n",
       "      <td>0.668977</td>\n",
       "      <td>0.297725</td>\n",
       "      <td>SMOTE</td>\n",
       "    </tr>\n",
       "    <tr>\n",
       "      <th>0</th>\n",
       "      <td>0.670998</td>\n",
       "      <td>0.215672</td>\n",
       "      <td>0.352975</td>\n",
       "      <td>0.267748</td>\n",
       "      <td>ADASYN</td>\n",
       "    </tr>\n",
       "    <tr>\n",
       "      <th>0</th>\n",
       "      <td>0.824375</td>\n",
       "      <td>0.306569</td>\n",
       "      <td>0.024263</td>\n",
       "      <td>0.044968</td>\n",
       "      <td>EditedNearestNeighbours</td>\n",
       "    </tr>\n",
       "    <tr>\n",
       "      <th>0</th>\n",
       "      <td>0.830872</td>\n",
       "      <td>0.685714</td>\n",
       "      <td>0.013865</td>\n",
       "      <td>0.027180</td>\n",
       "      <td>Baseline</td>\n",
       "    </tr>\n",
       "  </tbody>\n",
       "</table>\n",
       "</div>"
      ],
      "text/plain": [
       "   accuracy  precision    recall        f1                     name\n",
       "0  0.523528   0.221864  0.716349  0.338798       RandomOverSampling\n",
       "0  0.548829   0.224285  0.670133  0.336086            threshold_0.2\n",
       "0  0.487202   0.212847  0.744656  0.331065      RandomUnderSampling\n",
       "0  0.462197   0.191468  0.668977  0.297725                    SMOTE\n",
       "0  0.670998   0.215672  0.352975  0.267748                   ADASYN\n",
       "0  0.824375   0.306569  0.024263  0.044968  EditedNearestNeighbours\n",
       "0  0.830872   0.685714  0.013865  0.027180                 Baseline"
      ]
     },
     "execution_count": 87,
     "metadata": {},
     "output_type": "execute_result"
    }
   ],
   "source": [
    "evaluations"
   ]
  },
  {
   "cell_type": "markdown",
   "id": "3cb8e4f1-0375-4ebe-896d-1e7181e6f66a",
   "metadata": {},
   "source": [
    "Analisando os resultados, levando em conta a métrica F1, vemos que alguns modelos tem desempenho parecidos, o ideal é avaliar junto com o time de negócios, o resultado das matrizes de confunsão, e entender qual seriam as consequencia de termos valores mais elevados para falsos polsitivos e falsos negativos."
   ]
  },
  {
   "cell_type": "markdown",
   "id": "c77dab8d-de89-46e6-9420-74a6879de03e",
   "metadata": {
    "tags": []
   },
   "source": [
    "# RandomForest baseline"
   ]
  },
  {
   "cell_type": "code",
   "execution_count": 88,
   "id": "a47cb0be-b33b-4535-9941-052a2f456cf4",
   "metadata": {},
   "outputs": [
    {
     "data": {
      "text/html": [
       "<div>\n",
       "<style scoped>\n",
       "    .dataframe tbody tr th:only-of-type {\n",
       "        vertical-align: middle;\n",
       "    }\n",
       "\n",
       "    .dataframe tbody tr th {\n",
       "        vertical-align: top;\n",
       "    }\n",
       "\n",
       "    .dataframe thead th {\n",
       "        text-align: right;\n",
       "    }\n",
       "</style>\n",
       "<table border=\"1\" class=\"dataframe\">\n",
       "  <thead>\n",
       "    <tr style=\"text-align: right;\">\n",
       "      <th></th>\n",
       "      <th>accuracy</th>\n",
       "      <th>precision</th>\n",
       "      <th>recall</th>\n",
       "      <th>f1</th>\n",
       "      <th>name</th>\n",
       "    </tr>\n",
       "  </thead>\n",
       "  <tbody>\n",
       "    <tr>\n",
       "      <th>0</th>\n",
       "      <td>0.868773</td>\n",
       "      <td>0.829470</td>\n",
       "      <td>0.289428</td>\n",
       "      <td>0.429122</td>\n",
       "      <td>RandomForestBaseline</td>\n",
       "    </tr>\n",
       "    <tr>\n",
       "      <th>0</th>\n",
       "      <td>0.523528</td>\n",
       "      <td>0.221864</td>\n",
       "      <td>0.716349</td>\n",
       "      <td>0.338798</td>\n",
       "      <td>RandomOverSampling</td>\n",
       "    </tr>\n",
       "    <tr>\n",
       "      <th>0</th>\n",
       "      <td>0.548829</td>\n",
       "      <td>0.224285</td>\n",
       "      <td>0.670133</td>\n",
       "      <td>0.336086</td>\n",
       "      <td>threshold_0.2</td>\n",
       "    </tr>\n",
       "    <tr>\n",
       "      <th>0</th>\n",
       "      <td>0.487202</td>\n",
       "      <td>0.212847</td>\n",
       "      <td>0.744656</td>\n",
       "      <td>0.331065</td>\n",
       "      <td>RandomUnderSampling</td>\n",
       "    </tr>\n",
       "    <tr>\n",
       "      <th>0</th>\n",
       "      <td>0.462197</td>\n",
       "      <td>0.191468</td>\n",
       "      <td>0.668977</td>\n",
       "      <td>0.297725</td>\n",
       "      <td>SMOTE</td>\n",
       "    </tr>\n",
       "    <tr>\n",
       "      <th>0</th>\n",
       "      <td>0.670998</td>\n",
       "      <td>0.215672</td>\n",
       "      <td>0.352975</td>\n",
       "      <td>0.267748</td>\n",
       "      <td>ADASYN</td>\n",
       "    </tr>\n",
       "    <tr>\n",
       "      <th>0</th>\n",
       "      <td>0.824375</td>\n",
       "      <td>0.306569</td>\n",
       "      <td>0.024263</td>\n",
       "      <td>0.044968</td>\n",
       "      <td>EditedNearestNeighbours</td>\n",
       "    </tr>\n",
       "    <tr>\n",
       "      <th>0</th>\n",
       "      <td>0.830872</td>\n",
       "      <td>0.685714</td>\n",
       "      <td>0.013865</td>\n",
       "      <td>0.027180</td>\n",
       "      <td>Baseline</td>\n",
       "    </tr>\n",
       "  </tbody>\n",
       "</table>\n",
       "</div>"
      ],
      "text/plain": [
       "   accuracy  precision    recall        f1                     name\n",
       "0  0.868773   0.829470  0.289428  0.429122     RandomForestBaseline\n",
       "0  0.523528   0.221864  0.716349  0.338798       RandomOverSampling\n",
       "0  0.548829   0.224285  0.670133  0.336086            threshold_0.2\n",
       "0  0.487202   0.212847  0.744656  0.331065      RandomUnderSampling\n",
       "0  0.462197   0.191468  0.668977  0.297725                    SMOTE\n",
       "0  0.670998   0.215672  0.352975  0.267748                   ADASYN\n",
       "0  0.824375   0.306569  0.024263  0.044968  EditedNearestNeighbours\n",
       "0  0.830872   0.685714  0.013865  0.027180                 Baseline"
      ]
     },
     "execution_count": 88,
     "metadata": {},
     "output_type": "execute_result"
    }
   ],
   "source": [
    "rf = RandomForestClassifier(random_state=42, n_estimators=45)\n",
    "rf.fit(X_train,y_train)\n",
    "rf_metric, y_pred_proba = predict(rf, X_train, y_train, X_test, y_test, \"RandomForestBaseline\")\n",
    "evaluations = append(evaluations, rf_metric)\n",
    "evaluations"
   ]
  },
  {
   "cell_type": "code",
   "execution_count": 89,
   "id": "165bba4b-75cc-42bb-a735-e1720d952765",
   "metadata": {},
   "outputs": [
    {
     "data": {
      "image/png": "[encoded data removed]",
      "text/plain": [
       "<Figure size 432x288 with 2 Axes>"
      ]
     },
     "metadata": {},
     "output_type": "display_data"
    }
   ],
   "source": [
    "ConfusionMatrixDisplay.from_predictions(y_test, (y_pred_proba >= 0.4).astype(int), cmap=\"Blues\")\n",
    "plt.grid(False)"
   ]
  },
  {
   "cell_type": "markdown",
   "id": "472a3e0b-602e-443b-8f02-66274c449bb2",
   "metadata": {
    "tags": []
   },
   "source": [
    "# GridSearch na RandomForest Baseline"
   ]
  },
  {
   "cell_type": "code",
   "execution_count": 93,
   "id": "f9d81830-edd0-4096-ab01-2eb3c5127972",
   "metadata": {},
   "outputs": [],
   "source": [
    "from sklearn.model_selection import GridSearchCV"
   ]
  },
  {
   "cell_type": "code",
   "execution_count": 94,
   "id": "0bd857c2-5763-42fb-aafb-05796946503c",
   "metadata": {},
   "outputs": [],
   "source": [
    "param_grid = {\n",
    "    \"min_samples_leaf\": list(range(2, 9, 3)),\n",
    "    \"max_depth\": list(range(1,100,10)),\n",
    "    \"n_estimators\": list([100,200,500,1000]),\n",
    "}"
   ]
  },
  {
   "cell_type": "code",
   "execution_count": 95,
   "id": "ecda9b69-13c0-4bc6-8aa2-c97dcb07277b",
   "metadata": {},
   "outputs": [],
   "source": [
    "rf_model = RandomForestClassifier(random_state=42, n_jobs=-1)\n",
    "\n",
    "model_gridsearch = GridSearchCV(\n",
    "  estimator=rf_model,\n",
    "  param_grid=param_grid,\n",
    "  scoring='f1',\n",
    ")"
   ]
  },
  {
   "cell_type": "code",
   "execution_count": 96,
   "id": "32c5e348-5568-4630-afd2-a0ad800e9684",
   "metadata": {},
   "outputs": [],
   "source": [
    "#model_gridsearch.fit(X_train, y_train)"
   ]
  },
  {
   "cell_type": "code",
   "execution_count": 97,
   "id": "1c8623f5-3e25-43b2-a689-13efdbf3bc24",
   "metadata": {},
   "outputs": [],
   "source": [
    " #print(model_gridsearch.best_params_)"
   ]
  },
  {
   "cell_type": "code",
   "execution_count": 102,
   "id": "05dc4243-e30b-449d-9c93-9afdb9087be3",
   "metadata": {},
   "outputs": [
    {
     "data": {
      "text/html": [
       "<div>\n",
       "<style scoped>\n",
       "    .dataframe tbody tr th:only-of-type {\n",
       "        vertical-align: middle;\n",
       "    }\n",
       "\n",
       "    .dataframe tbody tr th {\n",
       "        vertical-align: top;\n",
       "    }\n",
       "\n",
       "    .dataframe thead th {\n",
       "        text-align: right;\n",
       "    }\n",
       "</style>\n",
       "<table border=\"1\" class=\"dataframe\">\n",
       "  <thead>\n",
       "    <tr style=\"text-align: right;\">\n",
       "      <th></th>\n",
       "      <th>accuracy</th>\n",
       "      <th>precision</th>\n",
       "      <th>recall</th>\n",
       "      <th>f1</th>\n",
       "      <th>name</th>\n",
       "    </tr>\n",
       "  </thead>\n",
       "  <tbody>\n",
       "    <tr>\n",
       "      <th>0</th>\n",
       "      <td>0.868773</td>\n",
       "      <td>0.829470</td>\n",
       "      <td>0.289428</td>\n",
       "      <td>0.429122</td>\n",
       "      <td>RandomForestBaseline</td>\n",
       "    </tr>\n",
       "    <tr>\n",
       "      <th>0</th>\n",
       "      <td>0.868773</td>\n",
       "      <td>0.829470</td>\n",
       "      <td>0.289428</td>\n",
       "      <td>0.429122</td>\n",
       "      <td>RandomForestROS</td>\n",
       "    </tr>\n",
       "    <tr>\n",
       "      <th>0</th>\n",
       "      <td>0.523528</td>\n",
       "      <td>0.221864</td>\n",
       "      <td>0.716349</td>\n",
       "      <td>0.338798</td>\n",
       "      <td>RandomOverSampling</td>\n",
       "    </tr>\n",
       "    <tr>\n",
       "      <th>0</th>\n",
       "      <td>0.548829</td>\n",
       "      <td>0.224285</td>\n",
       "      <td>0.670133</td>\n",
       "      <td>0.336086</td>\n",
       "      <td>threshold_0.2</td>\n",
       "    </tr>\n",
       "    <tr>\n",
       "      <th>0</th>\n",
       "      <td>0.487202</td>\n",
       "      <td>0.212847</td>\n",
       "      <td>0.744656</td>\n",
       "      <td>0.331065</td>\n",
       "      <td>RandomUnderSampling</td>\n",
       "    </tr>\n",
       "    <tr>\n",
       "      <th>0</th>\n",
       "      <td>0.858043</td>\n",
       "      <td>0.916427</td>\n",
       "      <td>0.183709</td>\n",
       "      <td>0.306064</td>\n",
       "      <td>RandomForestROSGridSearch</td>\n",
       "    </tr>\n",
       "    <tr>\n",
       "      <th>0</th>\n",
       "      <td>0.858043</td>\n",
       "      <td>0.916427</td>\n",
       "      <td>0.183709</td>\n",
       "      <td>0.306064</td>\n",
       "      <td>RandomForestROSGridSearch</td>\n",
       "    </tr>\n",
       "    <tr>\n",
       "      <th>0</th>\n",
       "      <td>0.858043</td>\n",
       "      <td>0.916427</td>\n",
       "      <td>0.183709</td>\n",
       "      <td>0.306064</td>\n",
       "      <td>RandomForestCV</td>\n",
       "    </tr>\n",
       "    <tr>\n",
       "      <th>0</th>\n",
       "      <td>0.462197</td>\n",
       "      <td>0.191468</td>\n",
       "      <td>0.668977</td>\n",
       "      <td>0.297725</td>\n",
       "      <td>SMOTE</td>\n",
       "    </tr>\n",
       "    <tr>\n",
       "      <th>0</th>\n",
       "      <td>0.670998</td>\n",
       "      <td>0.215672</td>\n",
       "      <td>0.352975</td>\n",
       "      <td>0.267748</td>\n",
       "      <td>ADASYN</td>\n",
       "    </tr>\n",
       "    <tr>\n",
       "      <th>0</th>\n",
       "      <td>0.824375</td>\n",
       "      <td>0.306569</td>\n",
       "      <td>0.024263</td>\n",
       "      <td>0.044968</td>\n",
       "      <td>EditedNearestNeighbours</td>\n",
       "    </tr>\n",
       "    <tr>\n",
       "      <th>0</th>\n",
       "      <td>0.830872</td>\n",
       "      <td>0.685714</td>\n",
       "      <td>0.013865</td>\n",
       "      <td>0.027180</td>\n",
       "      <td>Baseline</td>\n",
       "    </tr>\n",
       "  </tbody>\n",
       "</table>\n",
       "</div>"
      ],
      "text/plain": [
       "   accuracy  precision    recall        f1                       name\n",
       "0  0.868773   0.829470  0.289428  0.429122       RandomForestBaseline\n",
       "0  0.868773   0.829470  0.289428  0.429122            RandomForestROS\n",
       "0  0.523528   0.221864  0.716349  0.338798         RandomOverSampling\n",
       "0  0.548829   0.224285  0.670133  0.336086              threshold_0.2\n",
       "0  0.487202   0.212847  0.744656  0.331065        RandomUnderSampling\n",
       "0  0.858043   0.916427  0.183709  0.306064  RandomForestROSGridSearch\n",
       "0  0.858043   0.916427  0.183709  0.306064  RandomForestROSGridSearch\n",
       "0  0.858043   0.916427  0.183709  0.306064             RandomForestCV\n",
       "0  0.462197   0.191468  0.668977  0.297725                      SMOTE\n",
       "0  0.670998   0.215672  0.352975  0.267748                     ADASYN\n",
       "0  0.824375   0.306569  0.024263  0.044968    EditedNearestNeighbours\n",
       "0  0.830872   0.685714  0.013865  0.027180                   Baseline"
      ]
     },
     "execution_count": 102,
     "metadata": {},
     "output_type": "execute_result"
    }
   ],
   "source": [
    "rf_model = RandomForestClassifier(random_state=42, n_jobs=-1, max_depth = 51, min_samples_leaf = 2, n_estimators = 200)\n",
    "rf_model.fit(X_train,y_train)\n",
    "rf_model_metrics, y_pred_proba = predict(rf_model, X_train, y_train, X_test, y_test, \"RandomForestCV\")\n",
    "evaluations = append(evaluations, rf_model_metrics)\n",
    "evaluations"
   ]
  },
  {
   "cell_type": "code",
   "execution_count": 101,
   "id": "08b8b282-3950-41c1-9ea8-658aa48c12d8",
   "metadata": {},
   "outputs": [
    {
     "data": {
      "image/png": "[encoded data removed]",
      "text/plain": [
       "<Figure size 432x288 with 2 Axes>"
      ]
     },
     "metadata": {},
     "output_type": "display_data"
    }
   ],
   "source": [
    "ConfusionMatrixDisplay.from_predictions(y_test, (y_pred_proba >= 0.4).astype(int), cmap=\"Blues\")\n",
    "plt.grid(False)"
   ]
  },
  {
   "cell_type": "markdown",
   "id": "09ba1425-443b-4ee1-ade1-b0bbec756560",
   "metadata": {},
   "source": [
    "# Conclusão"
   ]
  },
  {
   "cell_type": "markdown",
   "id": "9507aaa2-0d6e-4a0f-ba98-97d7eb18b9db",
   "metadata": {},
   "source": [
    "## Foram testados e parametrizados diversos modelos de ML, e verificamos que o que obteve uma métrica melhor foi o modelo base line do randomforest. Alguns dos modelos tiveram uma performance muito baixa e apresentaram uma matriz de confusão não tão agradável. O modelo baseline da randomforest foi o que apresentou a melhor métrica, sendo assim, seria interessante apresentar este modelo para o time de negócios e validar que a performance do modelo agrega valor para o problema de churn dos clientes, sendo possível incentivar clientes que podem dar churn a continuarem utilizando a plataforma da empresa, aumentando assim o número de clientes ativos que realizam compras utilizando a plataforma."
   ]
  },
  {
   "cell_type": "code",
   "execution_count": null,
   "id": "41aba763-41b3-4e3b-b680-e33fcb14f0c4",
   "metadata": {},
   "outputs": [],
   "source": []
  }
 ],
 "metadata": {
  "kernelspec": {
   "display_name": "Python 3 (ipykernel)",
   "language": "python",
   "name": "python3"
  },
  "language_info": {
   "codemirror_mode": {
    "name": "ipython",
    "version": 3
   },
   "file_extension": ".py",
   "mimetype": "text/x-python",
   "name": "python",
   "nbconvert_exporter": "python",
   "pygments_lexer": "ipython3",
   "version": "3.9.12"
  }
 },
 "nbformat": 4,
 "nbformat_minor": 5
}
